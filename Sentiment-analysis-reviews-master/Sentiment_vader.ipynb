{
 "cells": [
  {
   "cell_type": "code",
   "execution_count": 1,
   "metadata": {},
   "outputs": [
    {
     "name": "stdout",
     "output_type": "stream",
     "text": [
      "Requirement already satisfied: textblob in c:\\users\\pc\\anaconda3\\lib\\site-packages (0.15.3)\n",
      "Requirement already satisfied: nltk>=3.1 in c:\\users\\pc\\anaconda3\\lib\\site-packages (from textblob) (3.4.5)\n",
      "Requirement already satisfied: six in c:\\users\\pc\\anaconda3\\lib\\site-packages (from nltk>=3.1->textblob) (1.11.0)\n"
     ]
    }
   ],
   "source": [
    "!pip install textblob"
   ]
  },
  {
   "cell_type": "markdown",
   "metadata": {},
   "source": [
    "### Importing packages and loading data"
   ]
  },
  {
   "cell_type": "code",
   "execution_count": 1,
   "metadata": {},
   "outputs": [],
   "source": [
    "import pandas as pd\n",
    "import numpy as np\n",
    "import matplotlib.pyplot as plt\n",
    "%matplotlib inline\n",
    "import seaborn as sns\n",
    "\n",
    "import re\n",
    "import string\n",
    "\n",
    "import nltk\n",
    "from nltk.corpus import stopwords\n",
    "from nltk.sentiment.vader import SentimentIntensityAnalyzer\n",
    "from textblob import TextBlob\n",
    "\n",
    "from sklearn.metrics import accuracy_score,classification_report, confusion_matrix"
   ]
  },
  {
   "cell_type": "code",
   "execution_count": 2,
   "metadata": {},
   "outputs": [
    {
     "data": {
      "text/html": [
       "<div>\n",
       "<style scoped>\n",
       "    .dataframe tbody tr th:only-of-type {\n",
       "        vertical-align: middle;\n",
       "    }\n",
       "\n",
       "    .dataframe tbody tr th {\n",
       "        vertical-align: top;\n",
       "    }\n",
       "\n",
       "    .dataframe thead th {\n",
       "        text-align: right;\n",
       "    }\n",
       "</style>\n",
       "<table border=\"1\" class=\"dataframe\">\n",
       "  <thead>\n",
       "    <tr style=\"text-align: right;\">\n",
       "      <th></th>\n",
       "      <th>Clothing ID</th>\n",
       "      <th>Age</th>\n",
       "      <th>Title</th>\n",
       "      <th>Review Text</th>\n",
       "      <th>Rating</th>\n",
       "      <th>Recommended IND</th>\n",
       "      <th>Positive Feedback Count</th>\n",
       "      <th>Division Name</th>\n",
       "      <th>Department Name</th>\n",
       "      <th>Class Name</th>\n",
       "    </tr>\n",
       "  </thead>\n",
       "  <tbody>\n",
       "    <tr>\n",
       "      <th>0</th>\n",
       "      <td>767</td>\n",
       "      <td>33</td>\n",
       "      <td>NaN</td>\n",
       "      <td>Absolutely wonderful - silky and sexy and comf...</td>\n",
       "      <td>4</td>\n",
       "      <td>1</td>\n",
       "      <td>0</td>\n",
       "      <td>Initmates</td>\n",
       "      <td>Intimate</td>\n",
       "      <td>Intimates</td>\n",
       "    </tr>\n",
       "    <tr>\n",
       "      <th>1</th>\n",
       "      <td>1080</td>\n",
       "      <td>34</td>\n",
       "      <td>NaN</td>\n",
       "      <td>Love this dress!  it's sooo pretty.  i happene...</td>\n",
       "      <td>5</td>\n",
       "      <td>1</td>\n",
       "      <td>4</td>\n",
       "      <td>General</td>\n",
       "      <td>Dresses</td>\n",
       "      <td>Dresses</td>\n",
       "    </tr>\n",
       "    <tr>\n",
       "      <th>2</th>\n",
       "      <td>1077</td>\n",
       "      <td>60</td>\n",
       "      <td>Some major design flaws</td>\n",
       "      <td>I had such high hopes for this dress and reall...</td>\n",
       "      <td>3</td>\n",
       "      <td>0</td>\n",
       "      <td>0</td>\n",
       "      <td>General</td>\n",
       "      <td>Dresses</td>\n",
       "      <td>Dresses</td>\n",
       "    </tr>\n",
       "    <tr>\n",
       "      <th>3</th>\n",
       "      <td>1049</td>\n",
       "      <td>50</td>\n",
       "      <td>My favorite buy!</td>\n",
       "      <td>I love, love, love this jumpsuit. it's fun, fl...</td>\n",
       "      <td>5</td>\n",
       "      <td>1</td>\n",
       "      <td>0</td>\n",
       "      <td>General Petite</td>\n",
       "      <td>Bottoms</td>\n",
       "      <td>Pants</td>\n",
       "    </tr>\n",
       "    <tr>\n",
       "      <th>4</th>\n",
       "      <td>847</td>\n",
       "      <td>47</td>\n",
       "      <td>Flattering shirt</td>\n",
       "      <td>This shirt is very flattering to all due to th...</td>\n",
       "      <td>5</td>\n",
       "      <td>1</td>\n",
       "      <td>6</td>\n",
       "      <td>General</td>\n",
       "      <td>Tops</td>\n",
       "      <td>Blouses</td>\n",
       "    </tr>\n",
       "  </tbody>\n",
       "</table>\n",
       "</div>"
      ],
      "text/plain": [
       "   Clothing ID  Age                    Title  \\\n",
       "0          767   33                      NaN   \n",
       "1         1080   34                      NaN   \n",
       "2         1077   60  Some major design flaws   \n",
       "3         1049   50         My favorite buy!   \n",
       "4          847   47         Flattering shirt   \n",
       "\n",
       "                                         Review Text  Rating  Recommended IND  \\\n",
       "0  Absolutely wonderful - silky and sexy and comf...       4                1   \n",
       "1  Love this dress!  it's sooo pretty.  i happene...       5                1   \n",
       "2  I had such high hopes for this dress and reall...       3                0   \n",
       "3  I love, love, love this jumpsuit. it's fun, fl...       5                1   \n",
       "4  This shirt is very flattering to all due to th...       5                1   \n",
       "\n",
       "   Positive Feedback Count   Division Name Department Name Class Name  \n",
       "0                        0       Initmates        Intimate  Intimates  \n",
       "1                        4         General         Dresses    Dresses  \n",
       "2                        0         General         Dresses    Dresses  \n",
       "3                        0  General Petite         Bottoms      Pants  \n",
       "4                        6         General            Tops    Blouses  "
      ]
     },
     "execution_count": 2,
     "metadata": {},
     "output_type": "execute_result"
    }
   ],
   "source": [
    "df = pd.read_csv('C:\\Python Scripts\\Datasets\\Womens Clothing Reviews.csv', header=0,index_col=0)\n",
    "df.head()"
   ]
  },
  {
   "cell_type": "markdown",
   "metadata": {},
   "source": [
    "### Data preparation"
   ]
  },
  {
   "cell_type": "code",
   "execution_count": 37,
   "metadata": {},
   "outputs": [
    {
     "data": {
      "text/html": [
       "<div>\n",
       "<style scoped>\n",
       "    .dataframe tbody tr th:only-of-type {\n",
       "        vertical-align: middle;\n",
       "    }\n",
       "\n",
       "    .dataframe tbody tr th {\n",
       "        vertical-align: top;\n",
       "    }\n",
       "\n",
       "    .dataframe thead th {\n",
       "        text-align: right;\n",
       "    }\n",
       "</style>\n",
       "<table border=\"1\" class=\"dataframe\">\n",
       "  <thead>\n",
       "    <tr style=\"text-align: right;\">\n",
       "      <th></th>\n",
       "      <th>Rating</th>\n",
       "      <th>Recommended IND</th>\n",
       "      <th>Review Text</th>\n",
       "    </tr>\n",
       "  </thead>\n",
       "  <tbody>\n",
       "    <tr>\n",
       "      <th>0</th>\n",
       "      <td>4</td>\n",
       "      <td>1</td>\n",
       "      <td>Absolutely wonderful - silky and sexy and comf...</td>\n",
       "    </tr>\n",
       "    <tr>\n",
       "      <th>1</th>\n",
       "      <td>5</td>\n",
       "      <td>1</td>\n",
       "      <td>Love this dress!  it's sooo pretty.  i happene...</td>\n",
       "    </tr>\n",
       "    <tr>\n",
       "      <th>2</th>\n",
       "      <td>3</td>\n",
       "      <td>0</td>\n",
       "      <td>I had such high hopes for this dress and reall...</td>\n",
       "    </tr>\n",
       "    <tr>\n",
       "      <th>3</th>\n",
       "      <td>5</td>\n",
       "      <td>1</td>\n",
       "      <td>I love, love, love this jumpsuit. it's fun, fl...</td>\n",
       "    </tr>\n",
       "    <tr>\n",
       "      <th>4</th>\n",
       "      <td>5</td>\n",
       "      <td>1</td>\n",
       "      <td>This shirt is very flattering to all due to th...</td>\n",
       "    </tr>\n",
       "  </tbody>\n",
       "</table>\n",
       "</div>"
      ],
      "text/plain": [
       "   Rating  Recommended IND                                        Review Text\n",
       "0       4                1  Absolutely wonderful - silky and sexy and comf...\n",
       "1       5                1  Love this dress!  it's sooo pretty.  i happene...\n",
       "2       3                0  I had such high hopes for this dress and reall...\n",
       "3       5                1  I love, love, love this jumpsuit. it's fun, fl...\n",
       "4       5                1  This shirt is very flattering to all due to th..."
      ]
     },
     "execution_count": 37,
     "metadata": {},
     "output_type": "execute_result"
    }
   ],
   "source": [
    "text = df[['Rating', 'Recommended IND', 'Review Text']]\n",
    "text.head()"
   ]
  },
  {
   "cell_type": "code",
   "execution_count": 38,
   "metadata": {},
   "outputs": [
    {
     "data": {
      "text/html": [
       "<div>\n",
       "<style scoped>\n",
       "    .dataframe tbody tr th:only-of-type {\n",
       "        vertical-align: middle;\n",
       "    }\n",
       "\n",
       "    .dataframe tbody tr th {\n",
       "        vertical-align: top;\n",
       "    }\n",
       "\n",
       "    .dataframe thead th {\n",
       "        text-align: right;\n",
       "    }\n",
       "</style>\n",
       "<table border=\"1\" class=\"dataframe\">\n",
       "  <thead>\n",
       "    <tr style=\"text-align: right;\">\n",
       "      <th></th>\n",
       "      <th>Rating</th>\n",
       "      <th>Recommended</th>\n",
       "      <th>Review</th>\n",
       "    </tr>\n",
       "  </thead>\n",
       "  <tbody>\n",
       "    <tr>\n",
       "      <th>0</th>\n",
       "      <td>4</td>\n",
       "      <td>1</td>\n",
       "      <td>Absolutely wonderful - silky and sexy and comf...</td>\n",
       "    </tr>\n",
       "    <tr>\n",
       "      <th>1</th>\n",
       "      <td>5</td>\n",
       "      <td>1</td>\n",
       "      <td>Love this dress!  it's sooo pretty.  i happene...</td>\n",
       "    </tr>\n",
       "    <tr>\n",
       "      <th>2</th>\n",
       "      <td>3</td>\n",
       "      <td>0</td>\n",
       "      <td>I had such high hopes for this dress and reall...</td>\n",
       "    </tr>\n",
       "    <tr>\n",
       "      <th>3</th>\n",
       "      <td>5</td>\n",
       "      <td>1</td>\n",
       "      <td>I love, love, love this jumpsuit. it's fun, fl...</td>\n",
       "    </tr>\n",
       "    <tr>\n",
       "      <th>4</th>\n",
       "      <td>5</td>\n",
       "      <td>1</td>\n",
       "      <td>This shirt is very flattering to all due to th...</td>\n",
       "    </tr>\n",
       "  </tbody>\n",
       "</table>\n",
       "</div>"
      ],
      "text/plain": [
       "   Rating  Recommended                                             Review\n",
       "0       4            1  Absolutely wonderful - silky and sexy and comf...\n",
       "1       5            1  Love this dress!  it's sooo pretty.  i happene...\n",
       "2       3            0  I had such high hopes for this dress and reall...\n",
       "3       5            1  I love, love, love this jumpsuit. it's fun, fl...\n",
       "4       5            1  This shirt is very flattering to all due to th..."
      ]
     },
     "execution_count": 38,
     "metadata": {},
     "output_type": "execute_result"
    }
   ],
   "source": [
    "text = text.rename(columns={\"Review Text\": \"Review\", \"Recommended IND\":\"Recommended\"})\n",
    "text.head()"
   ]
  },
  {
   "cell_type": "code",
   "execution_count": 39,
   "metadata": {},
   "outputs": [
    {
     "data": {
      "text/plain": [
       "(23486, 3)"
      ]
     },
     "execution_count": 39,
     "metadata": {},
     "output_type": "execute_result"
    }
   ],
   "source": [
    "text.shape"
   ]
  },
  {
   "cell_type": "code",
   "execution_count": 40,
   "metadata": {},
   "outputs": [
    {
     "data": {
      "text/plain": [
       "Rating           0\n",
       "Recommended      0\n",
       "Review         845\n",
       "dtype: int64"
      ]
     },
     "execution_count": 40,
     "metadata": {},
     "output_type": "execute_result"
    }
   ],
   "source": [
    "text.isnull().sum()"
   ]
  },
  {
   "cell_type": "code",
   "execution_count": 41,
   "metadata": {},
   "outputs": [],
   "source": [
    "text.dropna(subset=['Review'], inplace=True)"
   ]
  },
  {
   "cell_type": "code",
   "execution_count": 42,
   "metadata": {},
   "outputs": [],
   "source": [
    "text['Review'] = text['Review'].astype(str)"
   ]
  },
  {
   "cell_type": "markdown",
   "metadata": {},
   "source": [
    "We will create a new column that will consider the ratings as follows:\n",
    "\n",
    "We assign the values from the ranking to the positive, neutral and negative values. Rating 4 or higher to Positive, equal to 3 Neutral and rating 2 or less to Negative."
   ]
  },
  {
   "cell_type": "code",
   "execution_count": 43,
   "metadata": {},
   "outputs": [
    {
     "data": {
      "text/html": [
       "<div>\n",
       "<style scoped>\n",
       "    .dataframe tbody tr th:only-of-type {\n",
       "        vertical-align: middle;\n",
       "    }\n",
       "\n",
       "    .dataframe tbody tr th {\n",
       "        vertical-align: top;\n",
       "    }\n",
       "\n",
       "    .dataframe thead th {\n",
       "        text-align: right;\n",
       "    }\n",
       "</style>\n",
       "<table border=\"1\" class=\"dataframe\">\n",
       "  <thead>\n",
       "    <tr style=\"text-align: right;\">\n",
       "      <th></th>\n",
       "      <th>Rating</th>\n",
       "      <th>Recommended</th>\n",
       "      <th>Review</th>\n",
       "    </tr>\n",
       "  </thead>\n",
       "  <tbody>\n",
       "    <tr>\n",
       "      <th>0</th>\n",
       "      <td>4</td>\n",
       "      <td>1</td>\n",
       "      <td>Absolutely wonderful - silky and sexy and comf...</td>\n",
       "    </tr>\n",
       "    <tr>\n",
       "      <th>1</th>\n",
       "      <td>5</td>\n",
       "      <td>1</td>\n",
       "      <td>Love this dress!  it's sooo pretty.  i happene...</td>\n",
       "    </tr>\n",
       "    <tr>\n",
       "      <th>2</th>\n",
       "      <td>3</td>\n",
       "      <td>0</td>\n",
       "      <td>I had such high hopes for this dress and reall...</td>\n",
       "    </tr>\n",
       "    <tr>\n",
       "      <th>3</th>\n",
       "      <td>5</td>\n",
       "      <td>1</td>\n",
       "      <td>I love, love, love this jumpsuit. it's fun, fl...</td>\n",
       "    </tr>\n",
       "    <tr>\n",
       "      <th>4</th>\n",
       "      <td>5</td>\n",
       "      <td>1</td>\n",
       "      <td>This shirt is very flattering to all due to th...</td>\n",
       "    </tr>\n",
       "  </tbody>\n",
       "</table>\n",
       "</div>"
      ],
      "text/plain": [
       "   Rating  Recommended                                             Review\n",
       "0       4            1  Absolutely wonderful - silky and sexy and comf...\n",
       "1       5            1  Love this dress!  it's sooo pretty.  i happene...\n",
       "2       3            0  I had such high hopes for this dress and reall...\n",
       "3       5            1  I love, love, love this jumpsuit. it's fun, fl...\n",
       "4       5            1  This shirt is very flattering to all due to th..."
      ]
     },
     "execution_count": 43,
     "metadata": {},
     "output_type": "execute_result"
    }
   ],
   "source": [
    "text.head()"
   ]
  },
  {
   "cell_type": "code",
   "execution_count": 44,
   "metadata": {},
   "outputs": [],
   "source": [
    "def rating(row):\n",
    "    if row >= 4:\n",
    "        return 'Positive'\n",
    "    if row == 3:\n",
    "        return 'Neutral'\n",
    "    if row <= 2:\n",
    "        return 'Negative'"
   ]
  },
  {
   "cell_type": "code",
   "execution_count": 45,
   "metadata": {},
   "outputs": [
    {
     "data": {
      "text/html": [
       "<div>\n",
       "<style scoped>\n",
       "    .dataframe tbody tr th:only-of-type {\n",
       "        vertical-align: middle;\n",
       "    }\n",
       "\n",
       "    .dataframe tbody tr th {\n",
       "        vertical-align: top;\n",
       "    }\n",
       "\n",
       "    .dataframe thead th {\n",
       "        text-align: right;\n",
       "    }\n",
       "</style>\n",
       "<table border=\"1\" class=\"dataframe\">\n",
       "  <thead>\n",
       "    <tr style=\"text-align: right;\">\n",
       "      <th></th>\n",
       "      <th>Rating</th>\n",
       "      <th>Recommended</th>\n",
       "      <th>Review</th>\n",
       "      <th>Class</th>\n",
       "    </tr>\n",
       "  </thead>\n",
       "  <tbody>\n",
       "    <tr>\n",
       "      <th>0</th>\n",
       "      <td>4</td>\n",
       "      <td>1</td>\n",
       "      <td>Absolutely wonderful - silky and sexy and comf...</td>\n",
       "      <td>Positive</td>\n",
       "    </tr>\n",
       "    <tr>\n",
       "      <th>1</th>\n",
       "      <td>5</td>\n",
       "      <td>1</td>\n",
       "      <td>Love this dress!  it's sooo pretty.  i happene...</td>\n",
       "      <td>Positive</td>\n",
       "    </tr>\n",
       "    <tr>\n",
       "      <th>2</th>\n",
       "      <td>3</td>\n",
       "      <td>0</td>\n",
       "      <td>I had such high hopes for this dress and reall...</td>\n",
       "      <td>Neutral</td>\n",
       "    </tr>\n",
       "    <tr>\n",
       "      <th>3</th>\n",
       "      <td>5</td>\n",
       "      <td>1</td>\n",
       "      <td>I love, love, love this jumpsuit. it's fun, fl...</td>\n",
       "      <td>Positive</td>\n",
       "    </tr>\n",
       "    <tr>\n",
       "      <th>4</th>\n",
       "      <td>5</td>\n",
       "      <td>1</td>\n",
       "      <td>This shirt is very flattering to all due to th...</td>\n",
       "      <td>Positive</td>\n",
       "    </tr>\n",
       "    <tr>\n",
       "      <th>5</th>\n",
       "      <td>2</td>\n",
       "      <td>0</td>\n",
       "      <td>I love tracy reese dresses, but this one is no...</td>\n",
       "      <td>Negative</td>\n",
       "    </tr>\n",
       "    <tr>\n",
       "      <th>6</th>\n",
       "      <td>5</td>\n",
       "      <td>1</td>\n",
       "      <td>I aded this in my basket at hte last mintue to...</td>\n",
       "      <td>Positive</td>\n",
       "    </tr>\n",
       "    <tr>\n",
       "      <th>7</th>\n",
       "      <td>4</td>\n",
       "      <td>1</td>\n",
       "      <td>I ordered this in carbon for store pick up, an...</td>\n",
       "      <td>Positive</td>\n",
       "    </tr>\n",
       "    <tr>\n",
       "      <th>8</th>\n",
       "      <td>5</td>\n",
       "      <td>1</td>\n",
       "      <td>I love this dress. i usually get an xs but it ...</td>\n",
       "      <td>Positive</td>\n",
       "    </tr>\n",
       "    <tr>\n",
       "      <th>9</th>\n",
       "      <td>5</td>\n",
       "      <td>1</td>\n",
       "      <td>I'm 5\"5' and 125 lbs. i ordered the s petite t...</td>\n",
       "      <td>Positive</td>\n",
       "    </tr>\n",
       "  </tbody>\n",
       "</table>\n",
       "</div>"
      ],
      "text/plain": [
       "   Rating  Recommended                                             Review  \\\n",
       "0       4            1  Absolutely wonderful - silky and sexy and comf...   \n",
       "1       5            1  Love this dress!  it's sooo pretty.  i happene...   \n",
       "2       3            0  I had such high hopes for this dress and reall...   \n",
       "3       5            1  I love, love, love this jumpsuit. it's fun, fl...   \n",
       "4       5            1  This shirt is very flattering to all due to th...   \n",
       "5       2            0  I love tracy reese dresses, but this one is no...   \n",
       "6       5            1  I aded this in my basket at hte last mintue to...   \n",
       "7       4            1  I ordered this in carbon for store pick up, an...   \n",
       "8       5            1  I love this dress. i usually get an xs but it ...   \n",
       "9       5            1  I'm 5\"5' and 125 lbs. i ordered the s petite t...   \n",
       "\n",
       "      Class  \n",
       "0  Positive  \n",
       "1  Positive  \n",
       "2   Neutral  \n",
       "3  Positive  \n",
       "4  Positive  \n",
       "5  Negative  \n",
       "6  Positive  \n",
       "7  Positive  \n",
       "8  Positive  \n",
       "9  Positive  "
      ]
     },
     "execution_count": 45,
     "metadata": {},
     "output_type": "execute_result"
    }
   ],
   "source": [
    "text['Class'] = text['Rating'].apply(rating)\n",
    "text.head(10)"
   ]
  },
  {
   "cell_type": "code",
   "execution_count": 46,
   "metadata": {},
   "outputs": [
    {
     "data": {
      "text/plain": [
       "Positive    17448\n",
       "Neutral      2823\n",
       "Negative     2370\n",
       "Name: Class, dtype: int64"
      ]
     },
     "execution_count": 46,
     "metadata": {},
     "output_type": "execute_result"
    }
   ],
   "source": [
    "text['Class'].value_counts()"
   ]
  },
  {
   "cell_type": "markdown",
   "metadata": {},
   "source": [
    "### Vader sentiment\n",
    "\n",
    "We create the sentiment classifier:"
   ]
  },
  {
   "cell_type": "code",
   "execution_count": 47,
   "metadata": {},
   "outputs": [],
   "source": [
    "analyser = SentimentIntensityAnalyzer()\n",
    "\n",
    "def sentiment_scores(text):\n",
    "    score = analyser.polarity_scores(text)\n",
    "    print(\"{:-<40} {}\".format(text, str(score)))"
   ]
  },
  {
   "cell_type": "code",
   "execution_count": 48,
   "metadata": {},
   "outputs": [
    {
     "name": "stdout",
     "output_type": "stream",
     "text": [
      "I had such high hopes for this dress and really wanted it to work for me. i initially ordered the petite small (my usual size) but i found this to be outrageously small. so small in fact that i could not zip it up! i reordered it in petite medium, which was just ok. overall, the top half was comfortable and fit nicely, but the bottom half had a very tight under layer and several somewhat cheap (net) over layers. imo, a major design flaw was the net over layer sewn directly into the zipper - it c {'neg': 0.027, 'neu': 0.792, 'pos': 0.181, 'compound': 0.9427}\n"
     ]
    }
   ],
   "source": [
    "sentiment_scores(text['Review'].iloc[2])"
   ]
  },
  {
   "cell_type": "markdown",
   "metadata": {},
   "source": [
    "Positive, negative and neutral results represent the proportion of the text that falls in these categories. This means that our opinion was rated as 79% neutral, 18% positive and 0.3% negative. All results should add up to 1. The Compound score is a metric that calculates the sum of all lexicon scores that have been normalized between -1 (most extreme negative) and +1 (most extreme positive). Compound is 0.94, which means very high positive sentiment."
   ]
  },
  {
   "cell_type": "markdown",
   "metadata": {},
   "source": [
    "We add score to the all reviews:"
   ]
  },
  {
   "cell_type": "code",
   "execution_count": 49,
   "metadata": {},
   "outputs": [
    {
     "data": {
      "text/html": [
       "<div>\n",
       "<style scoped>\n",
       "    .dataframe tbody tr th:only-of-type {\n",
       "        vertical-align: middle;\n",
       "    }\n",
       "\n",
       "    .dataframe tbody tr th {\n",
       "        vertical-align: top;\n",
       "    }\n",
       "\n",
       "    .dataframe thead th {\n",
       "        text-align: right;\n",
       "    }\n",
       "</style>\n",
       "<table border=\"1\" class=\"dataframe\">\n",
       "  <thead>\n",
       "    <tr style=\"text-align: right;\">\n",
       "      <th></th>\n",
       "      <th>Rating</th>\n",
       "      <th>Recommended</th>\n",
       "      <th>Review</th>\n",
       "      <th>Class</th>\n",
       "      <th>Scores</th>\n",
       "    </tr>\n",
       "  </thead>\n",
       "  <tbody>\n",
       "    <tr>\n",
       "      <th>0</th>\n",
       "      <td>4</td>\n",
       "      <td>1</td>\n",
       "      <td>Absolutely wonderful - silky and sexy and comf...</td>\n",
       "      <td>Positive</td>\n",
       "      <td>{'neg': 0.0, 'neu': 0.272, 'pos': 0.728, 'comp...</td>\n",
       "    </tr>\n",
       "    <tr>\n",
       "      <th>1</th>\n",
       "      <td>5</td>\n",
       "      <td>1</td>\n",
       "      <td>Love this dress!  it's sooo pretty.  i happene...</td>\n",
       "      <td>Positive</td>\n",
       "      <td>{'neg': 0.0, 'neu': 0.664, 'pos': 0.336, 'comp...</td>\n",
       "    </tr>\n",
       "    <tr>\n",
       "      <th>2</th>\n",
       "      <td>3</td>\n",
       "      <td>0</td>\n",
       "      <td>I had such high hopes for this dress and reall...</td>\n",
       "      <td>Neutral</td>\n",
       "      <td>{'neg': 0.027, 'neu': 0.792, 'pos': 0.181, 'co...</td>\n",
       "    </tr>\n",
       "    <tr>\n",
       "      <th>3</th>\n",
       "      <td>5</td>\n",
       "      <td>1</td>\n",
       "      <td>I love, love, love this jumpsuit. it's fun, fl...</td>\n",
       "      <td>Positive</td>\n",
       "      <td>{'neg': 0.226, 'neu': 0.34, 'pos': 0.434, 'com...</td>\n",
       "    </tr>\n",
       "    <tr>\n",
       "      <th>4</th>\n",
       "      <td>5</td>\n",
       "      <td>1</td>\n",
       "      <td>This shirt is very flattering to all due to th...</td>\n",
       "      <td>Positive</td>\n",
       "      <td>{'neg': 0.0, 'neu': 0.7, 'pos': 0.3, 'compound...</td>\n",
       "    </tr>\n",
       "  </tbody>\n",
       "</table>\n",
       "</div>"
      ],
      "text/plain": [
       "   Rating  Recommended                                             Review  \\\n",
       "0       4            1  Absolutely wonderful - silky and sexy and comf...   \n",
       "1       5            1  Love this dress!  it's sooo pretty.  i happene...   \n",
       "2       3            0  I had such high hopes for this dress and reall...   \n",
       "3       5            1  I love, love, love this jumpsuit. it's fun, fl...   \n",
       "4       5            1  This shirt is very flattering to all due to th...   \n",
       "\n",
       "      Class                                             Scores  \n",
       "0  Positive  {'neg': 0.0, 'neu': 0.272, 'pos': 0.728, 'comp...  \n",
       "1  Positive  {'neg': 0.0, 'neu': 0.664, 'pos': 0.336, 'comp...  \n",
       "2   Neutral  {'neg': 0.027, 'neu': 0.792, 'pos': 0.181, 'co...  \n",
       "3  Positive  {'neg': 0.226, 'neu': 0.34, 'pos': 0.434, 'com...  \n",
       "4  Positive  {'neg': 0.0, 'neu': 0.7, 'pos': 0.3, 'compound...  "
      ]
     },
     "execution_count": 49,
     "metadata": {},
     "output_type": "execute_result"
    }
   ],
   "source": [
    "text['Scores'] = text['Review'].apply(lambda Review: analyser.polarity_scores(Review))\n",
    "text.head()"
   ]
  },
  {
   "cell_type": "markdown",
   "metadata": {},
   "source": [
    "We calculate \"Compound\" to all sentences:"
   ]
  },
  {
   "cell_type": "code",
   "execution_count": 51,
   "metadata": {},
   "outputs": [
    {
     "data": {
      "text/html": [
       "<div>\n",
       "<style scoped>\n",
       "    .dataframe tbody tr th:only-of-type {\n",
       "        vertical-align: middle;\n",
       "    }\n",
       "\n",
       "    .dataframe tbody tr th {\n",
       "        vertical-align: top;\n",
       "    }\n",
       "\n",
       "    .dataframe thead th {\n",
       "        text-align: right;\n",
       "    }\n",
       "</style>\n",
       "<table border=\"1\" class=\"dataframe\">\n",
       "  <thead>\n",
       "    <tr style=\"text-align: right;\">\n",
       "      <th></th>\n",
       "      <th>Rating</th>\n",
       "      <th>Recommended</th>\n",
       "      <th>Review</th>\n",
       "      <th>Class</th>\n",
       "      <th>Scores</th>\n",
       "      <th>Compound</th>\n",
       "    </tr>\n",
       "  </thead>\n",
       "  <tbody>\n",
       "    <tr>\n",
       "      <th>0</th>\n",
       "      <td>4</td>\n",
       "      <td>1</td>\n",
       "      <td>Absolutely wonderful - silky and sexy and comf...</td>\n",
       "      <td>Positive</td>\n",
       "      <td>{'neg': 0.0, 'neu': 0.272, 'pos': 0.728, 'comp...</td>\n",
       "      <td>0.8932</td>\n",
       "    </tr>\n",
       "    <tr>\n",
       "      <th>1</th>\n",
       "      <td>5</td>\n",
       "      <td>1</td>\n",
       "      <td>Love this dress!  it's sooo pretty.  i happene...</td>\n",
       "      <td>Positive</td>\n",
       "      <td>{'neg': 0.0, 'neu': 0.664, 'pos': 0.336, 'comp...</td>\n",
       "      <td>0.9729</td>\n",
       "    </tr>\n",
       "    <tr>\n",
       "      <th>2</th>\n",
       "      <td>3</td>\n",
       "      <td>0</td>\n",
       "      <td>I had such high hopes for this dress and reall...</td>\n",
       "      <td>Neutral</td>\n",
       "      <td>{'neg': 0.027, 'neu': 0.792, 'pos': 0.181, 'co...</td>\n",
       "      <td>0.9427</td>\n",
       "    </tr>\n",
       "    <tr>\n",
       "      <th>3</th>\n",
       "      <td>5</td>\n",
       "      <td>1</td>\n",
       "      <td>I love, love, love this jumpsuit. it's fun, fl...</td>\n",
       "      <td>Positive</td>\n",
       "      <td>{'neg': 0.226, 'neu': 0.34, 'pos': 0.434, 'com...</td>\n",
       "      <td>0.5727</td>\n",
       "    </tr>\n",
       "    <tr>\n",
       "      <th>4</th>\n",
       "      <td>5</td>\n",
       "      <td>1</td>\n",
       "      <td>This shirt is very flattering to all due to th...</td>\n",
       "      <td>Positive</td>\n",
       "      <td>{'neg': 0.0, 'neu': 0.7, 'pos': 0.3, 'compound...</td>\n",
       "      <td>0.9291</td>\n",
       "    </tr>\n",
       "  </tbody>\n",
       "</table>\n",
       "</div>"
      ],
      "text/plain": [
       "   Rating  Recommended                                             Review  \\\n",
       "0       4            1  Absolutely wonderful - silky and sexy and comf...   \n",
       "1       5            1  Love this dress!  it's sooo pretty.  i happene...   \n",
       "2       3            0  I had such high hopes for this dress and reall...   \n",
       "3       5            1  I love, love, love this jumpsuit. it's fun, fl...   \n",
       "4       5            1  This shirt is very flattering to all due to th...   \n",
       "\n",
       "      Class                                             Scores  Compound  \n",
       "0  Positive  {'neg': 0.0, 'neu': 0.272, 'pos': 0.728, 'comp...    0.8932  \n",
       "1  Positive  {'neg': 0.0, 'neu': 0.664, 'pos': 0.336, 'comp...    0.9729  \n",
       "2   Neutral  {'neg': 0.027, 'neu': 0.792, 'pos': 0.181, 'co...    0.9427  \n",
       "3  Positive  {'neg': 0.226, 'neu': 0.34, 'pos': 0.434, 'com...    0.5727  \n",
       "4  Positive  {'neg': 0.0, 'neu': 0.7, 'pos': 0.3, 'compound...    0.9291  "
      ]
     },
     "execution_count": 51,
     "metadata": {},
     "output_type": "execute_result"
    }
   ],
   "source": [
    "text['Compound'] = text['Scores'].apply(lambda score_dict: score_dict['compound'])\n",
    "text.head()"
   ]
  },
  {
   "cell_type": "markdown",
   "metadata": {},
   "source": [
    "Each review has a negative, neutral, positive and complex result. The complex result is a comprehensive assessment of the first three points and this score is in the range of -1 to 1. Based on these results, we can determine the sentiment. We set score threshold ourselves and here we can set it to ± 0.5. If Compound is bigger than 0.5 the review is positive, from 0 to 0.5 is neutral and below than 0 is negative."
   ]
  },
  {
   "cell_type": "code",
   "execution_count": 52,
   "metadata": {},
   "outputs": [],
   "source": [
    "def sentiment (score):\n",
    "    if score >= 0.5:\n",
    "        return 'Positive'\n",
    "    if (score > 0) and (score < 0.5):\n",
    "        return 'Neutral'\n",
    "    if score <= 0:\n",
    "        return 'Negative'\n"
   ]
  },
  {
   "cell_type": "markdown",
   "metadata": {},
   "source": [
    "We add \"Sentiment\" to all sentences:"
   ]
  },
  {
   "cell_type": "code",
   "execution_count": 53,
   "metadata": {},
   "outputs": [
    {
     "data": {
      "text/html": [
       "<div>\n",
       "<style scoped>\n",
       "    .dataframe tbody tr th:only-of-type {\n",
       "        vertical-align: middle;\n",
       "    }\n",
       "\n",
       "    .dataframe tbody tr th {\n",
       "        vertical-align: top;\n",
       "    }\n",
       "\n",
       "    .dataframe thead th {\n",
       "        text-align: right;\n",
       "    }\n",
       "</style>\n",
       "<table border=\"1\" class=\"dataframe\">\n",
       "  <thead>\n",
       "    <tr style=\"text-align: right;\">\n",
       "      <th></th>\n",
       "      <th>Rating</th>\n",
       "      <th>Recommended</th>\n",
       "      <th>Review</th>\n",
       "      <th>Class</th>\n",
       "      <th>Scores</th>\n",
       "      <th>Compound</th>\n",
       "      <th>Sentiment</th>\n",
       "    </tr>\n",
       "  </thead>\n",
       "  <tbody>\n",
       "    <tr>\n",
       "      <th>0</th>\n",
       "      <td>4</td>\n",
       "      <td>1</td>\n",
       "      <td>Absolutely wonderful - silky and sexy and comf...</td>\n",
       "      <td>Positive</td>\n",
       "      <td>{'neg': 0.0, 'neu': 0.272, 'pos': 0.728, 'comp...</td>\n",
       "      <td>0.8932</td>\n",
       "      <td>Positive</td>\n",
       "    </tr>\n",
       "    <tr>\n",
       "      <th>1</th>\n",
       "      <td>5</td>\n",
       "      <td>1</td>\n",
       "      <td>Love this dress!  it's sooo pretty.  i happene...</td>\n",
       "      <td>Positive</td>\n",
       "      <td>{'neg': 0.0, 'neu': 0.664, 'pos': 0.336, 'comp...</td>\n",
       "      <td>0.9729</td>\n",
       "      <td>Positive</td>\n",
       "    </tr>\n",
       "    <tr>\n",
       "      <th>2</th>\n",
       "      <td>3</td>\n",
       "      <td>0</td>\n",
       "      <td>I had such high hopes for this dress and reall...</td>\n",
       "      <td>Neutral</td>\n",
       "      <td>{'neg': 0.027, 'neu': 0.792, 'pos': 0.181, 'co...</td>\n",
       "      <td>0.9427</td>\n",
       "      <td>Positive</td>\n",
       "    </tr>\n",
       "    <tr>\n",
       "      <th>3</th>\n",
       "      <td>5</td>\n",
       "      <td>1</td>\n",
       "      <td>I love, love, love this jumpsuit. it's fun, fl...</td>\n",
       "      <td>Positive</td>\n",
       "      <td>{'neg': 0.226, 'neu': 0.34, 'pos': 0.434, 'com...</td>\n",
       "      <td>0.5727</td>\n",
       "      <td>Positive</td>\n",
       "    </tr>\n",
       "    <tr>\n",
       "      <th>4</th>\n",
       "      <td>5</td>\n",
       "      <td>1</td>\n",
       "      <td>This shirt is very flattering to all due to th...</td>\n",
       "      <td>Positive</td>\n",
       "      <td>{'neg': 0.0, 'neu': 0.7, 'pos': 0.3, 'compound...</td>\n",
       "      <td>0.9291</td>\n",
       "      <td>Positive</td>\n",
       "    </tr>\n",
       "    <tr>\n",
       "      <th>5</th>\n",
       "      <td>2</td>\n",
       "      <td>0</td>\n",
       "      <td>I love tracy reese dresses, but this one is no...</td>\n",
       "      <td>Negative</td>\n",
       "      <td>{'neg': 0.0, 'neu': 0.853, 'pos': 0.147, 'comp...</td>\n",
       "      <td>0.9419</td>\n",
       "      <td>Positive</td>\n",
       "    </tr>\n",
       "    <tr>\n",
       "      <th>6</th>\n",
       "      <td>5</td>\n",
       "      <td>1</td>\n",
       "      <td>I aded this in my basket at hte last mintue to...</td>\n",
       "      <td>Positive</td>\n",
       "      <td>{'neg': 0.023, 'neu': 0.881, 'pos': 0.096, 'co...</td>\n",
       "      <td>0.8004</td>\n",
       "      <td>Positive</td>\n",
       "    </tr>\n",
       "    <tr>\n",
       "      <th>7</th>\n",
       "      <td>4</td>\n",
       "      <td>1</td>\n",
       "      <td>I ordered this in carbon for store pick up, an...</td>\n",
       "      <td>Positive</td>\n",
       "      <td>{'neg': 0.046, 'neu': 0.901, 'pos': 0.053, 'co...</td>\n",
       "      <td>-0.0909</td>\n",
       "      <td>Negative</td>\n",
       "    </tr>\n",
       "    <tr>\n",
       "      <th>8</th>\n",
       "      <td>5</td>\n",
       "      <td>1</td>\n",
       "      <td>I love this dress. i usually get an xs but it ...</td>\n",
       "      <td>Positive</td>\n",
       "      <td>{'neg': 0.0, 'neu': 0.818, 'pos': 0.182, 'comp...</td>\n",
       "      <td>0.7175</td>\n",
       "      <td>Positive</td>\n",
       "    </tr>\n",
       "    <tr>\n",
       "      <th>9</th>\n",
       "      <td>5</td>\n",
       "      <td>1</td>\n",
       "      <td>I'm 5\"5' and 125 lbs. i ordered the s petite t...</td>\n",
       "      <td>Positive</td>\n",
       "      <td>{'neg': 0.12, 'neu': 0.753, 'pos': 0.126, 'com...</td>\n",
       "      <td>-0.3724</td>\n",
       "      <td>Negative</td>\n",
       "    </tr>\n",
       "  </tbody>\n",
       "</table>\n",
       "</div>"
      ],
      "text/plain": [
       "   Rating  Recommended                                             Review  \\\n",
       "0       4            1  Absolutely wonderful - silky and sexy and comf...   \n",
       "1       5            1  Love this dress!  it's sooo pretty.  i happene...   \n",
       "2       3            0  I had such high hopes for this dress and reall...   \n",
       "3       5            1  I love, love, love this jumpsuit. it's fun, fl...   \n",
       "4       5            1  This shirt is very flattering to all due to th...   \n",
       "5       2            0  I love tracy reese dresses, but this one is no...   \n",
       "6       5            1  I aded this in my basket at hte last mintue to...   \n",
       "7       4            1  I ordered this in carbon for store pick up, an...   \n",
       "8       5            1  I love this dress. i usually get an xs but it ...   \n",
       "9       5            1  I'm 5\"5' and 125 lbs. i ordered the s petite t...   \n",
       "\n",
       "      Class                                             Scores  Compound  \\\n",
       "0  Positive  {'neg': 0.0, 'neu': 0.272, 'pos': 0.728, 'comp...    0.8932   \n",
       "1  Positive  {'neg': 0.0, 'neu': 0.664, 'pos': 0.336, 'comp...    0.9729   \n",
       "2   Neutral  {'neg': 0.027, 'neu': 0.792, 'pos': 0.181, 'co...    0.9427   \n",
       "3  Positive  {'neg': 0.226, 'neu': 0.34, 'pos': 0.434, 'com...    0.5727   \n",
       "4  Positive  {'neg': 0.0, 'neu': 0.7, 'pos': 0.3, 'compound...    0.9291   \n",
       "5  Negative  {'neg': 0.0, 'neu': 0.853, 'pos': 0.147, 'comp...    0.9419   \n",
       "6  Positive  {'neg': 0.023, 'neu': 0.881, 'pos': 0.096, 'co...    0.8004   \n",
       "7  Positive  {'neg': 0.046, 'neu': 0.901, 'pos': 0.053, 'co...   -0.0909   \n",
       "8  Positive  {'neg': 0.0, 'neu': 0.818, 'pos': 0.182, 'comp...    0.7175   \n",
       "9  Positive  {'neg': 0.12, 'neu': 0.753, 'pos': 0.126, 'com...   -0.3724   \n",
       "\n",
       "  Sentiment  \n",
       "0  Positive  \n",
       "1  Positive  \n",
       "2  Positive  \n",
       "3  Positive  \n",
       "4  Positive  \n",
       "5  Positive  \n",
       "6  Positive  \n",
       "7  Negative  \n",
       "8  Positive  \n",
       "9  Negative  "
      ]
     },
     "execution_count": 53,
     "metadata": {},
     "output_type": "execute_result"
    }
   ],
   "source": [
    "text['Sentiment'] = text['Compound'].apply(sentiment)\n",
    "text.head(10)"
   ]
  },
  {
   "cell_type": "markdown",
   "metadata": {},
   "source": [
    "Let's see how sentiments are distributed:"
   ]
  },
  {
   "cell_type": "code",
   "execution_count": 54,
   "metadata": {},
   "outputs": [
    {
     "data": {
      "text/plain": [
       "Positive    19119\n",
       "Neutral      1947\n",
       "Negative     1575\n",
       "Name: Sentiment, dtype: int64"
      ]
     },
     "execution_count": 54,
     "metadata": {},
     "output_type": "execute_result"
    }
   ],
   "source": [
    "text['Sentiment'].value_counts()"
   ]
  },
  {
   "cell_type": "markdown",
   "metadata": {},
   "source": [
    "**Assessment of sentiment analysis**\n",
    "\n",
    "We will compare them with those we originally assigned by ranking:"
   ]
  },
  {
   "cell_type": "code",
   "execution_count": 55,
   "metadata": {},
   "outputs": [
    {
     "data": {
      "text/plain": [
       "0.7622454838567201"
      ]
     },
     "execution_count": 55,
     "metadata": {},
     "output_type": "execute_result"
    }
   ],
   "source": [
    "accuracy_score(text['Class'],text['Sentiment'])"
   ]
  },
  {
   "cell_type": "code",
   "execution_count": 56,
   "metadata": {},
   "outputs": [
    {
     "name": "stdout",
     "output_type": "stream",
     "text": [
      "              precision    recall  f1-score   support\n",
      "\n",
      "    Negative       0.43      0.28      0.34      2370\n",
      "     Neutral       0.27      0.19      0.22      2823\n",
      "    Positive       0.84      0.92      0.88     17448\n",
      "\n",
      "    accuracy                           0.76     22641\n",
      "   macro avg       0.51      0.46      0.48     22641\n",
      "weighted avg       0.73      0.76      0.74     22641\n",
      "\n"
     ]
    }
   ],
   "source": [
    "print(classification_report(text['Class'],text['Sentiment']))"
   ]
  },
  {
   "cell_type": "code",
   "execution_count": 57,
   "metadata": {},
   "outputs": [
    {
     "name": "stdout",
     "output_type": "stream",
     "text": [
      "[[  675   492  1203]\n",
      " [  440   525  1858]\n",
      " [  460   930 16058]]\n"
     ]
    }
   ],
   "source": [
    "print(confusion_matrix(text['Class'],text['Sentiment']))"
   ]
  },
  {
   "cell_type": "markdown",
   "metadata": {},
   "source": [
    "Based on the above report, we can see that our fit has achieved 76% accuracy. One can see that received results show different sentiment distribution. The Vader method assigned more positive reviews than original rating so the amount of neutral and negative reviews reduced. There are also differences in the designation of individual sentiments, for example one of them was marked as positive, where it was negative in the original ranking.\n"
   ]
  },
  {
   "cell_type": "markdown",
   "metadata": {},
   "source": [
    "### Cleaning data\n",
    "\n",
    "Now we wiil check how the results look like after cleaning the data. We remove punctuation and Stopwords. "
   ]
  },
  {
   "cell_type": "code",
   "execution_count": 58,
   "metadata": {},
   "outputs": [
    {
     "data": {
      "text/html": [
       "<div>\n",
       "<style scoped>\n",
       "    .dataframe tbody tr th:only-of-type {\n",
       "        vertical-align: middle;\n",
       "    }\n",
       "\n",
       "    .dataframe tbody tr th {\n",
       "        vertical-align: top;\n",
       "    }\n",
       "\n",
       "    .dataframe thead th {\n",
       "        text-align: right;\n",
       "    }\n",
       "</style>\n",
       "<table border=\"1\" class=\"dataframe\">\n",
       "  <thead>\n",
       "    <tr style=\"text-align: right;\">\n",
       "      <th></th>\n",
       "      <th>Class</th>\n",
       "      <th>Review</th>\n",
       "    </tr>\n",
       "  </thead>\n",
       "  <tbody>\n",
       "    <tr>\n",
       "      <th>0</th>\n",
       "      <td>Positive</td>\n",
       "      <td>Absolutely wonderful - silky and sexy and comf...</td>\n",
       "    </tr>\n",
       "    <tr>\n",
       "      <th>1</th>\n",
       "      <td>Positive</td>\n",
       "      <td>Love this dress!  it's sooo pretty.  i happene...</td>\n",
       "    </tr>\n",
       "    <tr>\n",
       "      <th>2</th>\n",
       "      <td>Neutral</td>\n",
       "      <td>I had such high hopes for this dress and reall...</td>\n",
       "    </tr>\n",
       "    <tr>\n",
       "      <th>3</th>\n",
       "      <td>Positive</td>\n",
       "      <td>I love, love, love this jumpsuit. it's fun, fl...</td>\n",
       "    </tr>\n",
       "    <tr>\n",
       "      <th>4</th>\n",
       "      <td>Positive</td>\n",
       "      <td>This shirt is very flattering to all due to th...</td>\n",
       "    </tr>\n",
       "  </tbody>\n",
       "</table>\n",
       "</div>"
      ],
      "text/plain": [
       "      Class                                             Review\n",
       "0  Positive  Absolutely wonderful - silky and sexy and comf...\n",
       "1  Positive  Love this dress!  it's sooo pretty.  i happene...\n",
       "2   Neutral  I had such high hopes for this dress and reall...\n",
       "3  Positive  I love, love, love this jumpsuit. it's fun, fl...\n",
       "4  Positive  This shirt is very flattering to all due to th..."
      ]
     },
     "execution_count": 58,
     "metadata": {},
     "output_type": "execute_result"
    }
   ],
   "source": [
    "reviews = text[['Class', 'Review']]\n",
    "reviews.head()"
   ]
  },
  {
   "cell_type": "markdown",
   "metadata": {},
   "source": [
    "Remove punctuation:"
   ]
  },
  {
   "cell_type": "code",
   "execution_count": 59,
   "metadata": {},
   "outputs": [],
   "source": [
    "def clean_text(words):\n",
    "    words = re.sub(\"[^a-zA-Z]\",\" \", words)\n",
    "    text = words.lower().split()                   \n",
    "    return \" \".join(text)"
   ]
  },
  {
   "cell_type": "code",
   "execution_count": 60,
   "metadata": {},
   "outputs": [
    {
     "name": "stderr",
     "output_type": "stream",
     "text": [
      "C:\\Users\\PC\\Anaconda3\\lib\\site-packages\\ipykernel_launcher.py:1: SettingWithCopyWarning: \n",
      "A value is trying to be set on a copy of a slice from a DataFrame.\n",
      "Try using .loc[row_indexer,col_indexer] = value instead\n",
      "\n",
      "See the caveats in the documentation: http://pandas.pydata.org/pandas-docs/stable/indexing.html#indexing-view-versus-copy\n",
      "  \"\"\"Entry point for launching an IPython kernel.\n"
     ]
    },
    {
     "data": {
      "text/html": [
       "<div>\n",
       "<style scoped>\n",
       "    .dataframe tbody tr th:only-of-type {\n",
       "        vertical-align: middle;\n",
       "    }\n",
       "\n",
       "    .dataframe tbody tr th {\n",
       "        vertical-align: top;\n",
       "    }\n",
       "\n",
       "    .dataframe thead th {\n",
       "        text-align: right;\n",
       "    }\n",
       "</style>\n",
       "<table border=\"1\" class=\"dataframe\">\n",
       "  <thead>\n",
       "    <tr style=\"text-align: right;\">\n",
       "      <th></th>\n",
       "      <th>Class</th>\n",
       "      <th>Review</th>\n",
       "    </tr>\n",
       "  </thead>\n",
       "  <tbody>\n",
       "    <tr>\n",
       "      <th>0</th>\n",
       "      <td>Positive</td>\n",
       "      <td>absolutely wonderful silky and sexy and comfor...</td>\n",
       "    </tr>\n",
       "    <tr>\n",
       "      <th>1</th>\n",
       "      <td>Positive</td>\n",
       "      <td>love this dress it s sooo pretty i happened to...</td>\n",
       "    </tr>\n",
       "    <tr>\n",
       "      <th>2</th>\n",
       "      <td>Neutral</td>\n",
       "      <td>i had such high hopes for this dress and reall...</td>\n",
       "    </tr>\n",
       "    <tr>\n",
       "      <th>3</th>\n",
       "      <td>Positive</td>\n",
       "      <td>i love love love this jumpsuit it s fun flirty...</td>\n",
       "    </tr>\n",
       "    <tr>\n",
       "      <th>4</th>\n",
       "      <td>Positive</td>\n",
       "      <td>this shirt is very flattering to all due to th...</td>\n",
       "    </tr>\n",
       "  </tbody>\n",
       "</table>\n",
       "</div>"
      ],
      "text/plain": [
       "      Class                                             Review\n",
       "0  Positive  absolutely wonderful silky and sexy and comfor...\n",
       "1  Positive  love this dress it s sooo pretty i happened to...\n",
       "2   Neutral  i had such high hopes for this dress and reall...\n",
       "3  Positive  i love love love this jumpsuit it s fun flirty...\n",
       "4  Positive  this shirt is very flattering to all due to th..."
      ]
     },
     "execution_count": 60,
     "metadata": {},
     "output_type": "execute_result"
    }
   ],
   "source": [
    "reviews['Review'] = reviews['Review'].apply(clean_text)\n",
    "reviews.head()"
   ]
  },
  {
   "cell_type": "markdown",
   "metadata": {},
   "source": [
    "Stopwords:"
   ]
  },
  {
   "cell_type": "code",
   "execution_count": 61,
   "metadata": {},
   "outputs": [
    {
     "name": "stdout",
     "output_type": "stream",
     "text": [
      "['i', \"you've\", 'himself', 'they', 'that', 'been', 'a', 'while', 'through', 'in', 'here', 'few', 'own', 'just', 're', 'doesn', 'ma', \"shouldn't\"]\n"
     ]
    }
   ],
   "source": [
    "# Show some stop words\n",
    "stop_words = stopwords.words('english')\n",
    "print(stop_words[::10])"
   ]
  },
  {
   "cell_type": "code",
   "execution_count": 62,
   "metadata": {},
   "outputs": [],
   "source": [
    "def remove_stopwords(rows):\n",
    "    rows = [word.lower() for word in rows.split() if word.lower() not in stop_words]\n",
    "    return \" \".join(rows)"
   ]
  },
  {
   "cell_type": "code",
   "execution_count": 63,
   "metadata": {},
   "outputs": [
    {
     "name": "stderr",
     "output_type": "stream",
     "text": [
      "C:\\Users\\PC\\Anaconda3\\lib\\site-packages\\ipykernel_launcher.py:1: SettingWithCopyWarning: \n",
      "A value is trying to be set on a copy of a slice from a DataFrame.\n",
      "Try using .loc[row_indexer,col_indexer] = value instead\n",
      "\n",
      "See the caveats in the documentation: http://pandas.pydata.org/pandas-docs/stable/indexing.html#indexing-view-versus-copy\n",
      "  \"\"\"Entry point for launching an IPython kernel.\n"
     ]
    },
    {
     "data": {
      "text/html": [
       "<div>\n",
       "<style scoped>\n",
       "    .dataframe tbody tr th:only-of-type {\n",
       "        vertical-align: middle;\n",
       "    }\n",
       "\n",
       "    .dataframe tbody tr th {\n",
       "        vertical-align: top;\n",
       "    }\n",
       "\n",
       "    .dataframe thead th {\n",
       "        text-align: right;\n",
       "    }\n",
       "</style>\n",
       "<table border=\"1\" class=\"dataframe\">\n",
       "  <thead>\n",
       "    <tr style=\"text-align: right;\">\n",
       "      <th></th>\n",
       "      <th>Class</th>\n",
       "      <th>Review</th>\n",
       "    </tr>\n",
       "  </thead>\n",
       "  <tbody>\n",
       "    <tr>\n",
       "      <th>0</th>\n",
       "      <td>Positive</td>\n",
       "      <td>absolutely wonderful silky sexy comfortable</td>\n",
       "    </tr>\n",
       "    <tr>\n",
       "      <th>1</th>\n",
       "      <td>Positive</td>\n",
       "      <td>love dress sooo pretty happened find store gla...</td>\n",
       "    </tr>\n",
       "    <tr>\n",
       "      <th>2</th>\n",
       "      <td>Neutral</td>\n",
       "      <td>high hopes dress really wanted work initially ...</td>\n",
       "    </tr>\n",
       "    <tr>\n",
       "      <th>3</th>\n",
       "      <td>Positive</td>\n",
       "      <td>love love love jumpsuit fun flirty fabulous ev...</td>\n",
       "    </tr>\n",
       "    <tr>\n",
       "      <th>4</th>\n",
       "      <td>Positive</td>\n",
       "      <td>shirt flattering due adjustable front tie perf...</td>\n",
       "    </tr>\n",
       "  </tbody>\n",
       "</table>\n",
       "</div>"
      ],
      "text/plain": [
       "      Class                                             Review\n",
       "0  Positive        absolutely wonderful silky sexy comfortable\n",
       "1  Positive  love dress sooo pretty happened find store gla...\n",
       "2   Neutral  high hopes dress really wanted work initially ...\n",
       "3  Positive  love love love jumpsuit fun flirty fabulous ev...\n",
       "4  Positive  shirt flattering due adjustable front tie perf..."
      ]
     },
     "execution_count": 63,
     "metadata": {},
     "output_type": "execute_result"
    }
   ],
   "source": [
    "reviews['Review'] = reviews['Review'].apply(remove_stopwords)\n",
    "reviews.head()"
   ]
  },
  {
   "cell_type": "markdown",
   "metadata": {},
   "source": [
    "Now we are using Vader sentiment:"
   ]
  },
  {
   "cell_type": "code",
   "execution_count": 64,
   "metadata": {},
   "outputs": [
    {
     "name": "stderr",
     "output_type": "stream",
     "text": [
      "C:\\Users\\PC\\Anaconda3\\lib\\site-packages\\ipykernel_launcher.py:1: SettingWithCopyWarning: \n",
      "A value is trying to be set on a copy of a slice from a DataFrame.\n",
      "Try using .loc[row_indexer,col_indexer] = value instead\n",
      "\n",
      "See the caveats in the documentation: http://pandas.pydata.org/pandas-docs/stable/indexing.html#indexing-view-versus-copy\n",
      "  \"\"\"Entry point for launching an IPython kernel.\n"
     ]
    },
    {
     "data": {
      "text/html": [
       "<div>\n",
       "<style scoped>\n",
       "    .dataframe tbody tr th:only-of-type {\n",
       "        vertical-align: middle;\n",
       "    }\n",
       "\n",
       "    .dataframe tbody tr th {\n",
       "        vertical-align: top;\n",
       "    }\n",
       "\n",
       "    .dataframe thead th {\n",
       "        text-align: right;\n",
       "    }\n",
       "</style>\n",
       "<table border=\"1\" class=\"dataframe\">\n",
       "  <thead>\n",
       "    <tr style=\"text-align: right;\">\n",
       "      <th></th>\n",
       "      <th>Class</th>\n",
       "      <th>Review</th>\n",
       "      <th>Scores</th>\n",
       "    </tr>\n",
       "  </thead>\n",
       "  <tbody>\n",
       "    <tr>\n",
       "      <th>0</th>\n",
       "      <td>Positive</td>\n",
       "      <td>absolutely wonderful silky sexy comfortable</td>\n",
       "      <td>{'neg': 0.0, 'neu': 0.154, 'pos': 0.846, 'comp...</td>\n",
       "    </tr>\n",
       "    <tr>\n",
       "      <th>1</th>\n",
       "      <td>Positive</td>\n",
       "      <td>love dress sooo pretty happened find store gla...</td>\n",
       "      <td>{'neg': 0.0, 'neu': 0.492, 'pos': 0.508, 'comp...</td>\n",
       "    </tr>\n",
       "    <tr>\n",
       "      <th>2</th>\n",
       "      <td>Neutral</td>\n",
       "      <td>high hopes dress really wanted work initially ...</td>\n",
       "      <td>{'neg': 0.038, 'neu': 0.693, 'pos': 0.269, 'co...</td>\n",
       "    </tr>\n",
       "    <tr>\n",
       "      <th>3</th>\n",
       "      <td>Positive</td>\n",
       "      <td>love love love jumpsuit fun flirty fabulous ev...</td>\n",
       "      <td>{'neg': 0.171, 'neu': 0.185, 'pos': 0.644, 'co...</td>\n",
       "    </tr>\n",
       "    <tr>\n",
       "      <th>4</th>\n",
       "      <td>Positive</td>\n",
       "      <td>shirt flattering due adjustable front tie perf...</td>\n",
       "      <td>{'neg': 0.0, 'neu': 0.494, 'pos': 0.506, 'comp...</td>\n",
       "    </tr>\n",
       "  </tbody>\n",
       "</table>\n",
       "</div>"
      ],
      "text/plain": [
       "      Class                                             Review  \\\n",
       "0  Positive        absolutely wonderful silky sexy comfortable   \n",
       "1  Positive  love dress sooo pretty happened find store gla...   \n",
       "2   Neutral  high hopes dress really wanted work initially ...   \n",
       "3  Positive  love love love jumpsuit fun flirty fabulous ev...   \n",
       "4  Positive  shirt flattering due adjustable front tie perf...   \n",
       "\n",
       "                                              Scores  \n",
       "0  {'neg': 0.0, 'neu': 0.154, 'pos': 0.846, 'comp...  \n",
       "1  {'neg': 0.0, 'neu': 0.492, 'pos': 0.508, 'comp...  \n",
       "2  {'neg': 0.038, 'neu': 0.693, 'pos': 0.269, 'co...  \n",
       "3  {'neg': 0.171, 'neu': 0.185, 'pos': 0.644, 'co...  \n",
       "4  {'neg': 0.0, 'neu': 0.494, 'pos': 0.506, 'comp...  "
      ]
     },
     "execution_count": 64,
     "metadata": {},
     "output_type": "execute_result"
    }
   ],
   "source": [
    "reviews['Scores'] = reviews['Review'].apply(lambda Review: analyser.polarity_scores(Review))\n",
    "reviews.head()"
   ]
  },
  {
   "cell_type": "code",
   "execution_count": 65,
   "metadata": {},
   "outputs": [
    {
     "name": "stderr",
     "output_type": "stream",
     "text": [
      "C:\\Users\\PC\\Anaconda3\\lib\\site-packages\\ipykernel_launcher.py:1: SettingWithCopyWarning: \n",
      "A value is trying to be set on a copy of a slice from a DataFrame.\n",
      "Try using .loc[row_indexer,col_indexer] = value instead\n",
      "\n",
      "See the caveats in the documentation: http://pandas.pydata.org/pandas-docs/stable/indexing.html#indexing-view-versus-copy\n",
      "  \"\"\"Entry point for launching an IPython kernel.\n",
      "C:\\Users\\PC\\Anaconda3\\lib\\site-packages\\ipykernel_launcher.py:2: SettingWithCopyWarning: \n",
      "A value is trying to be set on a copy of a slice from a DataFrame.\n",
      "Try using .loc[row_indexer,col_indexer] = value instead\n",
      "\n",
      "See the caveats in the documentation: http://pandas.pydata.org/pandas-docs/stable/indexing.html#indexing-view-versus-copy\n",
      "  \n"
     ]
    },
    {
     "data": {
      "text/html": [
       "<div>\n",
       "<style scoped>\n",
       "    .dataframe tbody tr th:only-of-type {\n",
       "        vertical-align: middle;\n",
       "    }\n",
       "\n",
       "    .dataframe tbody tr th {\n",
       "        vertical-align: top;\n",
       "    }\n",
       "\n",
       "    .dataframe thead th {\n",
       "        text-align: right;\n",
       "    }\n",
       "</style>\n",
       "<table border=\"1\" class=\"dataframe\">\n",
       "  <thead>\n",
       "    <tr style=\"text-align: right;\">\n",
       "      <th></th>\n",
       "      <th>Class</th>\n",
       "      <th>Review</th>\n",
       "      <th>Scores</th>\n",
       "      <th>Compound</th>\n",
       "      <th>Sentiment</th>\n",
       "    </tr>\n",
       "  </thead>\n",
       "  <tbody>\n",
       "    <tr>\n",
       "      <th>0</th>\n",
       "      <td>Positive</td>\n",
       "      <td>absolutely wonderful silky sexy comfortable</td>\n",
       "      <td>{'neg': 0.0, 'neu': 0.154, 'pos': 0.846, 'comp...</td>\n",
       "      <td>0.8991</td>\n",
       "      <td>Positive</td>\n",
       "    </tr>\n",
       "    <tr>\n",
       "      <th>1</th>\n",
       "      <td>Positive</td>\n",
       "      <td>love dress sooo pretty happened find store gla...</td>\n",
       "      <td>{'neg': 0.0, 'neu': 0.492, 'pos': 0.508, 'comp...</td>\n",
       "      <td>0.9710</td>\n",
       "      <td>Positive</td>\n",
       "    </tr>\n",
       "    <tr>\n",
       "      <th>2</th>\n",
       "      <td>Neutral</td>\n",
       "      <td>high hopes dress really wanted work initially ...</td>\n",
       "      <td>{'neg': 0.038, 'neu': 0.693, 'pos': 0.269, 'co...</td>\n",
       "      <td>0.9062</td>\n",
       "      <td>Positive</td>\n",
       "    </tr>\n",
       "    <tr>\n",
       "      <th>3</th>\n",
       "      <td>Positive</td>\n",
       "      <td>love love love jumpsuit fun flirty fabulous ev...</td>\n",
       "      <td>{'neg': 0.171, 'neu': 0.185, 'pos': 0.644, 'co...</td>\n",
       "      <td>0.9464</td>\n",
       "      <td>Positive</td>\n",
       "    </tr>\n",
       "    <tr>\n",
       "      <th>4</th>\n",
       "      <td>Positive</td>\n",
       "      <td>shirt flattering due adjustable front tie perf...</td>\n",
       "      <td>{'neg': 0.0, 'neu': 0.494, 'pos': 0.506, 'comp...</td>\n",
       "      <td>0.9062</td>\n",
       "      <td>Positive</td>\n",
       "    </tr>\n",
       "    <tr>\n",
       "      <th>5</th>\n",
       "      <td>Negative</td>\n",
       "      <td>love tracy reese dresses one petite feet tall ...</td>\n",
       "      <td>{'neg': 0.0, 'neu': 0.732, 'pos': 0.268, 'comp...</td>\n",
       "      <td>0.9153</td>\n",
       "      <td>Positive</td>\n",
       "    </tr>\n",
       "    <tr>\n",
       "      <th>6</th>\n",
       "      <td>Positive</td>\n",
       "      <td>aded basket hte last mintue see would look lik...</td>\n",
       "      <td>{'neg': 0.048, 'neu': 0.827, 'pos': 0.125, 'co...</td>\n",
       "      <td>0.6361</td>\n",
       "      <td>Positive</td>\n",
       "    </tr>\n",
       "    <tr>\n",
       "      <th>7</th>\n",
       "      <td>Positive</td>\n",
       "      <td>ordered carbon store pick ton stuff always try...</td>\n",
       "      <td>{'neg': 0.042, 'neu': 0.832, 'pos': 0.126, 'co...</td>\n",
       "      <td>0.5709</td>\n",
       "      <td>Positive</td>\n",
       "    </tr>\n",
       "    <tr>\n",
       "      <th>8</th>\n",
       "      <td>Positive</td>\n",
       "      <td>love dress usually get xs runs little snug bus...</td>\n",
       "      <td>{'neg': 0.0, 'neu': 0.698, 'pos': 0.302, 'comp...</td>\n",
       "      <td>0.7579</td>\n",
       "      <td>Positive</td>\n",
       "    </tr>\n",
       "    <tr>\n",
       "      <th>9</th>\n",
       "      <td>Positive</td>\n",
       "      <td>lbs ordered petite make sure length long typic...</td>\n",
       "      <td>{'neg': 0.0, 'neu': 0.564, 'pos': 0.436, 'comp...</td>\n",
       "      <td>0.9643</td>\n",
       "      <td>Positive</td>\n",
       "    </tr>\n",
       "  </tbody>\n",
       "</table>\n",
       "</div>"
      ],
      "text/plain": [
       "      Class                                             Review  \\\n",
       "0  Positive        absolutely wonderful silky sexy comfortable   \n",
       "1  Positive  love dress sooo pretty happened find store gla...   \n",
       "2   Neutral  high hopes dress really wanted work initially ...   \n",
       "3  Positive  love love love jumpsuit fun flirty fabulous ev...   \n",
       "4  Positive  shirt flattering due adjustable front tie perf...   \n",
       "5  Negative  love tracy reese dresses one petite feet tall ...   \n",
       "6  Positive  aded basket hte last mintue see would look lik...   \n",
       "7  Positive  ordered carbon store pick ton stuff always try...   \n",
       "8  Positive  love dress usually get xs runs little snug bus...   \n",
       "9  Positive  lbs ordered petite make sure length long typic...   \n",
       "\n",
       "                                              Scores  Compound Sentiment  \n",
       "0  {'neg': 0.0, 'neu': 0.154, 'pos': 0.846, 'comp...    0.8991  Positive  \n",
       "1  {'neg': 0.0, 'neu': 0.492, 'pos': 0.508, 'comp...    0.9710  Positive  \n",
       "2  {'neg': 0.038, 'neu': 0.693, 'pos': 0.269, 'co...    0.9062  Positive  \n",
       "3  {'neg': 0.171, 'neu': 0.185, 'pos': 0.644, 'co...    0.9464  Positive  \n",
       "4  {'neg': 0.0, 'neu': 0.494, 'pos': 0.506, 'comp...    0.9062  Positive  \n",
       "5  {'neg': 0.0, 'neu': 0.732, 'pos': 0.268, 'comp...    0.9153  Positive  \n",
       "6  {'neg': 0.048, 'neu': 0.827, 'pos': 0.125, 'co...    0.6361  Positive  \n",
       "7  {'neg': 0.042, 'neu': 0.832, 'pos': 0.126, 'co...    0.5709  Positive  \n",
       "8  {'neg': 0.0, 'neu': 0.698, 'pos': 0.302, 'comp...    0.7579  Positive  \n",
       "9  {'neg': 0.0, 'neu': 0.564, 'pos': 0.436, 'comp...    0.9643  Positive  "
      ]
     },
     "execution_count": 65,
     "metadata": {},
     "output_type": "execute_result"
    }
   ],
   "source": [
    "reviews['Compound'] = reviews['Scores'].apply(lambda score_dict: score_dict['compound'])\n",
    "reviews['Sentiment'] = reviews['Compound'].apply(sentiment)\n",
    "reviews.head(10)"
   ]
  },
  {
   "cell_type": "markdown",
   "metadata": {},
   "source": [
    "Let's check the distribution of variables:"
   ]
  },
  {
   "cell_type": "code",
   "execution_count": 66,
   "metadata": {
    "scrolled": true
   },
   "outputs": [
    {
     "data": {
      "text/plain": [
       "Positive    20407\n",
       "Neutral      1471\n",
       "Negative      763\n",
       "Name: Sentiment, dtype: int64"
      ]
     },
     "execution_count": 66,
     "metadata": {},
     "output_type": "execute_result"
    }
   ],
   "source": [
    "reviews['Sentiment'].value_counts()"
   ]
  },
  {
   "cell_type": "code",
   "execution_count": 67,
   "metadata": {},
   "outputs": [
    {
     "data": {
      "text/html": [
       "<div>\n",
       "<style scoped>\n",
       "    .dataframe tbody tr th:only-of-type {\n",
       "        vertical-align: middle;\n",
       "    }\n",
       "\n",
       "    .dataframe tbody tr th {\n",
       "        vertical-align: top;\n",
       "    }\n",
       "\n",
       "    .dataframe thead th {\n",
       "        text-align: right;\n",
       "    }\n",
       "</style>\n",
       "<table border=\"1\" class=\"dataframe\">\n",
       "  <thead>\n",
       "    <tr style=\"text-align: right;\">\n",
       "      <th></th>\n",
       "      <th>Class</th>\n",
       "      <th>Review</th>\n",
       "      <th>Scores</th>\n",
       "      <th>Compound</th>\n",
       "      <th>Sentiment</th>\n",
       "    </tr>\n",
       "  </thead>\n",
       "  <tbody>\n",
       "    <tr>\n",
       "      <th>77</th>\n",
       "      <td>Negative</td>\n",
       "      <td>zipper broke piece first time wore disappointi...</td>\n",
       "      <td>{'neg': 0.295, 'neu': 0.475, 'pos': 0.231, 'co...</td>\n",
       "      <td>-0.2263</td>\n",
       "      <td>Negative</td>\n",
       "    </tr>\n",
       "    <tr>\n",
       "      <th>104</th>\n",
       "      <td>Negative</td>\n",
       "      <td>runs big looked unflattering petite might work...</td>\n",
       "      <td>{'neg': 0.0, 'neu': 1.0, 'pos': 0.0, 'compound...</td>\n",
       "      <td>0.0000</td>\n",
       "      <td>Negative</td>\n",
       "    </tr>\n",
       "    <tr>\n",
       "      <th>110</th>\n",
       "      <td>Negative</td>\n",
       "      <td>thin poor quality especially price felt like t...</td>\n",
       "      <td>{'neg': 0.25, 'neu': 0.565, 'pos': 0.184, 'com...</td>\n",
       "      <td>-0.3892</td>\n",
       "      <td>Negative</td>\n",
       "    </tr>\n",
       "    <tr>\n",
       "      <th>191</th>\n",
       "      <td>Negative</td>\n",
       "      <td>minimally torn whether return ultimately going...</td>\n",
       "      <td>{'neg': 0.184, 'neu': 0.816, 'pos': 0.0, 'comp...</td>\n",
       "      <td>-0.5456</td>\n",
       "      <td>Negative</td>\n",
       "    </tr>\n",
       "    <tr>\n",
       "      <th>214</th>\n",
       "      <td>Negative</td>\n",
       "      <td>skirt received little blue green mostly white ...</td>\n",
       "      <td>{'neg': 0.225, 'neu': 0.602, 'pos': 0.173, 'co...</td>\n",
       "      <td>-0.3182</td>\n",
       "      <td>Negative</td>\n",
       "    </tr>\n",
       "  </tbody>\n",
       "</table>\n",
       "</div>"
      ],
      "text/plain": [
       "        Class                                             Review  \\\n",
       "77   Negative  zipper broke piece first time wore disappointi...   \n",
       "104  Negative  runs big looked unflattering petite might work...   \n",
       "110  Negative  thin poor quality especially price felt like t...   \n",
       "191  Negative  minimally torn whether return ultimately going...   \n",
       "214  Negative  skirt received little blue green mostly white ...   \n",
       "\n",
       "                                                Scores  Compound Sentiment  \n",
       "77   {'neg': 0.295, 'neu': 0.475, 'pos': 0.231, 'co...   -0.2263  Negative  \n",
       "104  {'neg': 0.0, 'neu': 1.0, 'pos': 0.0, 'compound...    0.0000  Negative  \n",
       "110  {'neg': 0.25, 'neu': 0.565, 'pos': 0.184, 'com...   -0.3892  Negative  \n",
       "191  {'neg': 0.184, 'neu': 0.816, 'pos': 0.0, 'comp...   -0.5456  Negative  \n",
       "214  {'neg': 0.225, 'neu': 0.602, 'pos': 0.173, 'co...   -0.3182  Negative  "
      ]
     },
     "execution_count": 67,
     "metadata": {},
     "output_type": "execute_result"
    }
   ],
   "source": [
    "reviews.loc[reviews['Sentiment'] == 'Negative'].head()"
   ]
  },
  {
   "cell_type": "code",
   "execution_count": 68,
   "metadata": {},
   "outputs": [
    {
     "data": {
      "text/html": [
       "<div>\n",
       "<style scoped>\n",
       "    .dataframe tbody tr th:only-of-type {\n",
       "        vertical-align: middle;\n",
       "    }\n",
       "\n",
       "    .dataframe tbody tr th {\n",
       "        vertical-align: top;\n",
       "    }\n",
       "\n",
       "    .dataframe thead th {\n",
       "        text-align: right;\n",
       "    }\n",
       "</style>\n",
       "<table border=\"1\" class=\"dataframe\">\n",
       "  <thead>\n",
       "    <tr style=\"text-align: right;\">\n",
       "      <th></th>\n",
       "      <th>Class</th>\n",
       "      <th>Review</th>\n",
       "      <th>Scores</th>\n",
       "      <th>Compound</th>\n",
       "      <th>Sentiment</th>\n",
       "    </tr>\n",
       "  </thead>\n",
       "  <tbody>\n",
       "    <tr>\n",
       "      <th>10</th>\n",
       "      <td>Neutral</td>\n",
       "      <td>dress runs small esp zipper area runs ordered ...</td>\n",
       "      <td>{'neg': 0.084, 'neu': 0.782, 'pos': 0.135, 'co...</td>\n",
       "      <td>0.2263</td>\n",
       "      <td>Neutral</td>\n",
       "    </tr>\n",
       "    <tr>\n",
       "      <th>22</th>\n",
       "      <td>Negative</td>\n",
       "      <td>first pullover styling side zipper purchased k...</td>\n",
       "      <td>{'neg': 0.112, 'neu': 0.765, 'pos': 0.122, 'co...</td>\n",
       "      <td>0.1027</td>\n",
       "      <td>Neutral</td>\n",
       "    </tr>\n",
       "    <tr>\n",
       "      <th>32</th>\n",
       "      <td>Positive</td>\n",
       "      <td>pants even better person downside need dry cle...</td>\n",
       "      <td>{'neg': 0.183, 'neu': 0.55, 'pos': 0.266, 'com...</td>\n",
       "      <td>0.2263</td>\n",
       "      <td>Neutral</td>\n",
       "    </tr>\n",
       "    <tr>\n",
       "      <th>103</th>\n",
       "      <td>Negative</td>\n",
       "      <td>fabric felt cheap find flattering top referenc...</td>\n",
       "      <td>{'neg': 0.0, 'neu': 0.687, 'pos': 0.313, 'comp...</td>\n",
       "      <td>0.4767</td>\n",
       "      <td>Neutral</td>\n",
       "    </tr>\n",
       "    <tr>\n",
       "      <th>116</th>\n",
       "      <td>Positive</td>\n",
       "      <td>prior reviewer nailed summary dress definitely...</td>\n",
       "      <td>{'neg': 0.0, 'neu': 0.828, 'pos': 0.172, 'comp...</td>\n",
       "      <td>0.4019</td>\n",
       "      <td>Neutral</td>\n",
       "    </tr>\n",
       "  </tbody>\n",
       "</table>\n",
       "</div>"
      ],
      "text/plain": [
       "        Class                                             Review  \\\n",
       "10    Neutral  dress runs small esp zipper area runs ordered ...   \n",
       "22   Negative  first pullover styling side zipper purchased k...   \n",
       "32   Positive  pants even better person downside need dry cle...   \n",
       "103  Negative  fabric felt cheap find flattering top referenc...   \n",
       "116  Positive  prior reviewer nailed summary dress definitely...   \n",
       "\n",
       "                                                Scores  Compound Sentiment  \n",
       "10   {'neg': 0.084, 'neu': 0.782, 'pos': 0.135, 'co...    0.2263   Neutral  \n",
       "22   {'neg': 0.112, 'neu': 0.765, 'pos': 0.122, 'co...    0.1027   Neutral  \n",
       "32   {'neg': 0.183, 'neu': 0.55, 'pos': 0.266, 'com...    0.2263   Neutral  \n",
       "103  {'neg': 0.0, 'neu': 0.687, 'pos': 0.313, 'comp...    0.4767   Neutral  \n",
       "116  {'neg': 0.0, 'neu': 0.828, 'pos': 0.172, 'comp...    0.4019   Neutral  "
      ]
     },
     "execution_count": 68,
     "metadata": {},
     "output_type": "execute_result"
    }
   ],
   "source": [
    "reviews.loc[reviews['Sentiment'] == 'Neutral'].head()"
   ]
  },
  {
   "cell_type": "markdown",
   "metadata": {},
   "source": [
    "Comparing with ranking:"
   ]
  },
  {
   "cell_type": "code",
   "execution_count": 69,
   "metadata": {},
   "outputs": [
    {
     "data": {
      "text/plain": [
       "0.7609204540435494"
      ]
     },
     "execution_count": 69,
     "metadata": {},
     "output_type": "execute_result"
    }
   ],
   "source": [
    "accuracy_score(reviews['Class'],reviews['Sentiment'])"
   ]
  },
  {
   "cell_type": "code",
   "execution_count": 70,
   "metadata": {},
   "outputs": [
    {
     "name": "stdout",
     "output_type": "stream",
     "text": [
      "              precision    recall  f1-score   support\n",
      "\n",
      "    Negative       0.48      0.15      0.23      2370\n",
      "     Neutral       0.23      0.12      0.16      2823\n",
      "    Positive       0.81      0.95      0.87     17448\n",
      "\n",
      "    accuracy                           0.76     22641\n",
      "   macro avg       0.51      0.41      0.42     22641\n",
      "weighted avg       0.70      0.76      0.72     22641\n",
      "\n"
     ]
    }
   ],
   "source": [
    "print(classification_report(reviews['Class'],reviews['Sentiment']))"
   ]
  },
  {
   "cell_type": "markdown",
   "metadata": {},
   "source": [
    "### TextBlob"
   ]
  },
  {
   "cell_type": "code",
   "execution_count": 71,
   "metadata": {},
   "outputs": [
    {
     "data": {
      "text/html": [
       "<div>\n",
       "<style scoped>\n",
       "    .dataframe tbody tr th:only-of-type {\n",
       "        vertical-align: middle;\n",
       "    }\n",
       "\n",
       "    .dataframe tbody tr th {\n",
       "        vertical-align: top;\n",
       "    }\n",
       "\n",
       "    .dataframe thead th {\n",
       "        text-align: right;\n",
       "    }\n",
       "</style>\n",
       "<table border=\"1\" class=\"dataframe\">\n",
       "  <thead>\n",
       "    <tr style=\"text-align: right;\">\n",
       "      <th></th>\n",
       "      <th>Review</th>\n",
       "      <th>Class</th>\n",
       "    </tr>\n",
       "  </thead>\n",
       "  <tbody>\n",
       "    <tr>\n",
       "      <th>0</th>\n",
       "      <td>Absolutely wonderful - silky and sexy and comf...</td>\n",
       "      <td>Positive</td>\n",
       "    </tr>\n",
       "    <tr>\n",
       "      <th>1</th>\n",
       "      <td>Love this dress!  it's sooo pretty.  i happene...</td>\n",
       "      <td>Positive</td>\n",
       "    </tr>\n",
       "    <tr>\n",
       "      <th>2</th>\n",
       "      <td>I had such high hopes for this dress and reall...</td>\n",
       "      <td>Neutral</td>\n",
       "    </tr>\n",
       "    <tr>\n",
       "      <th>3</th>\n",
       "      <td>I love, love, love this jumpsuit. it's fun, fl...</td>\n",
       "      <td>Positive</td>\n",
       "    </tr>\n",
       "    <tr>\n",
       "      <th>4</th>\n",
       "      <td>This shirt is very flattering to all due to th...</td>\n",
       "      <td>Positive</td>\n",
       "    </tr>\n",
       "  </tbody>\n",
       "</table>\n",
       "</div>"
      ],
      "text/plain": [
       "                                              Review     Class\n",
       "0  Absolutely wonderful - silky and sexy and comf...  Positive\n",
       "1  Love this dress!  it's sooo pretty.  i happene...  Positive\n",
       "2  I had such high hopes for this dress and reall...   Neutral\n",
       "3  I love, love, love this jumpsuit. it's fun, fl...  Positive\n",
       "4  This shirt is very flattering to all due to th...  Positive"
      ]
     },
     "execution_count": 71,
     "metadata": {},
     "output_type": "execute_result"
    }
   ],
   "source": [
    "data = text[['Review', 'Class']]\n",
    "data.head()"
   ]
  },
  {
   "cell_type": "code",
   "execution_count": 72,
   "metadata": {},
   "outputs": [
    {
     "data": {
      "text/plain": [
       "'Absolutely wonderful - silky and sexy and comfortable'"
      ]
     },
     "execution_count": 72,
     "metadata": {},
     "output_type": "execute_result"
    }
   ],
   "source": [
    "blob_text = data['Review'][0]\n",
    "blob_text"
   ]
  },
  {
   "cell_type": "code",
   "execution_count": 73,
   "metadata": {},
   "outputs": [
    {
     "name": "stdout",
     "output_type": "stream",
     "text": [
      "Sentiment(polarity=0.6333333333333333, subjectivity=0.9333333333333332)\n"
     ]
    }
   ],
   "source": [
    "blob = TextBlob(blob_text)\n",
    "print(format(blob.sentiment))"
   ]
  },
  {
   "cell_type": "markdown",
   "metadata": {},
   "source": [
    "The above result is a tuple representing the polarization and subjectivity of review. The polarity of the sentence is 0.63, indicating that the sentiment is positive. The subjectivity of the text which is 0.93 in our example. The value closer to 1 indicates that the sentence is mostly a public opinion and not a factual piece of information and vice versa. \n",
    "\n",
    "Since we are interested in the sentiment, we will only extract the polarity and apply it to all the observations:"
   ]
  },
  {
   "cell_type": "code",
   "execution_count": 74,
   "metadata": {},
   "outputs": [
    {
     "name": "stderr",
     "output_type": "stream",
     "text": [
      "C:\\Users\\PC\\Anaconda3\\lib\\site-packages\\ipykernel_launcher.py:1: SettingWithCopyWarning: \n",
      "A value is trying to be set on a copy of a slice from a DataFrame.\n",
      "Try using .loc[row_indexer,col_indexer] = value instead\n",
      "\n",
      "See the caveats in the documentation: http://pandas.pydata.org/pandas-docs/stable/indexing.html#indexing-view-versus-copy\n",
      "  \"\"\"Entry point for launching an IPython kernel.\n"
     ]
    },
    {
     "data": {
      "text/html": [
       "<div>\n",
       "<style scoped>\n",
       "    .dataframe tbody tr th:only-of-type {\n",
       "        vertical-align: middle;\n",
       "    }\n",
       "\n",
       "    .dataframe tbody tr th {\n",
       "        vertical-align: top;\n",
       "    }\n",
       "\n",
       "    .dataframe thead th {\n",
       "        text-align: right;\n",
       "    }\n",
       "</style>\n",
       "<table border=\"1\" class=\"dataframe\">\n",
       "  <thead>\n",
       "    <tr style=\"text-align: right;\">\n",
       "      <th></th>\n",
       "      <th>Review</th>\n",
       "      <th>Class</th>\n",
       "      <th>Polarity</th>\n",
       "    </tr>\n",
       "  </thead>\n",
       "  <tbody>\n",
       "    <tr>\n",
       "      <th>0</th>\n",
       "      <td>Absolutely wonderful - silky and sexy and comf...</td>\n",
       "      <td>Positive</td>\n",
       "      <td>0.633333</td>\n",
       "    </tr>\n",
       "    <tr>\n",
       "      <th>1</th>\n",
       "      <td>Love this dress!  it's sooo pretty.  i happene...</td>\n",
       "      <td>Positive</td>\n",
       "      <td>0.339583</td>\n",
       "    </tr>\n",
       "    <tr>\n",
       "      <th>2</th>\n",
       "      <td>I had such high hopes for this dress and reall...</td>\n",
       "      <td>Neutral</td>\n",
       "      <td>0.073675</td>\n",
       "    </tr>\n",
       "    <tr>\n",
       "      <th>3</th>\n",
       "      <td>I love, love, love this jumpsuit. it's fun, fl...</td>\n",
       "      <td>Positive</td>\n",
       "      <td>0.550000</td>\n",
       "    </tr>\n",
       "    <tr>\n",
       "      <th>4</th>\n",
       "      <td>This shirt is very flattering to all due to th...</td>\n",
       "      <td>Positive</td>\n",
       "      <td>0.512891</td>\n",
       "    </tr>\n",
       "    <tr>\n",
       "      <th>5</th>\n",
       "      <td>I love tracy reese dresses, but this one is no...</td>\n",
       "      <td>Negative</td>\n",
       "      <td>0.178750</td>\n",
       "    </tr>\n",
       "    <tr>\n",
       "      <th>6</th>\n",
       "      <td>I aded this in my basket at hte last mintue to...</td>\n",
       "      <td>Positive</td>\n",
       "      <td>0.133750</td>\n",
       "    </tr>\n",
       "    <tr>\n",
       "      <th>7</th>\n",
       "      <td>I ordered this in carbon for store pick up, an...</td>\n",
       "      <td>Positive</td>\n",
       "      <td>0.171635</td>\n",
       "    </tr>\n",
       "    <tr>\n",
       "      <th>8</th>\n",
       "      <td>I love this dress. i usually get an xs but it ...</td>\n",
       "      <td>Positive</td>\n",
       "      <td>0.002500</td>\n",
       "    </tr>\n",
       "    <tr>\n",
       "      <th>9</th>\n",
       "      <td>I'm 5\"5' and 125 lbs. i ordered the s petite t...</td>\n",
       "      <td>Positive</td>\n",
       "      <td>0.204200</td>\n",
       "    </tr>\n",
       "  </tbody>\n",
       "</table>\n",
       "</div>"
      ],
      "text/plain": [
       "                                              Review     Class  Polarity\n",
       "0  Absolutely wonderful - silky and sexy and comf...  Positive  0.633333\n",
       "1  Love this dress!  it's sooo pretty.  i happene...  Positive  0.339583\n",
       "2  I had such high hopes for this dress and reall...   Neutral  0.073675\n",
       "3  I love, love, love this jumpsuit. it's fun, fl...  Positive  0.550000\n",
       "4  This shirt is very flattering to all due to th...  Positive  0.512891\n",
       "5  I love tracy reese dresses, but this one is no...  Negative  0.178750\n",
       "6  I aded this in my basket at hte last mintue to...  Positive  0.133750\n",
       "7  I ordered this in carbon for store pick up, an...  Positive  0.171635\n",
       "8  I love this dress. i usually get an xs but it ...  Positive  0.002500\n",
       "9  I'm 5\"5' and 125 lbs. i ordered the s petite t...  Positive  0.204200"
      ]
     },
     "execution_count": 74,
     "metadata": {},
     "output_type": "execute_result"
    }
   ],
   "source": [
    "data['Polarity'] = data['Review'].apply(lambda x: TextBlob(x).sentiment[0])\n",
    "data.head(10)"
   ]
  },
  {
   "cell_type": "code",
   "execution_count": 76,
   "metadata": {},
   "outputs": [],
   "source": [
    "def sentiment_score(polarity):\n",
    "    if polarity < 0:\n",
    "        return \"Negative\"\n",
    "    elif polarity > 0:\n",
    "        return \"Positive\"\n",
    "    else:\n",
    "        return \"Neutral\""
   ]
  },
  {
   "cell_type": "markdown",
   "metadata": {},
   "source": [
    "We add \"Sentiment\" to all sentences:"
   ]
  },
  {
   "cell_type": "code",
   "execution_count": 77,
   "metadata": {},
   "outputs": [
    {
     "name": "stderr",
     "output_type": "stream",
     "text": [
      "C:\\Users\\PC\\Anaconda3\\lib\\site-packages\\ipykernel_launcher.py:1: SettingWithCopyWarning: \n",
      "A value is trying to be set on a copy of a slice from a DataFrame.\n",
      "Try using .loc[row_indexer,col_indexer] = value instead\n",
      "\n",
      "See the caveats in the documentation: http://pandas.pydata.org/pandas-docs/stable/indexing.html#indexing-view-versus-copy\n",
      "  \"\"\"Entry point for launching an IPython kernel.\n"
     ]
    },
    {
     "data": {
      "text/html": [
       "<div>\n",
       "<style scoped>\n",
       "    .dataframe tbody tr th:only-of-type {\n",
       "        vertical-align: middle;\n",
       "    }\n",
       "\n",
       "    .dataframe tbody tr th {\n",
       "        vertical-align: top;\n",
       "    }\n",
       "\n",
       "    .dataframe thead th {\n",
       "        text-align: right;\n",
       "    }\n",
       "</style>\n",
       "<table border=\"1\" class=\"dataframe\">\n",
       "  <thead>\n",
       "    <tr style=\"text-align: right;\">\n",
       "      <th></th>\n",
       "      <th>Review</th>\n",
       "      <th>Class</th>\n",
       "      <th>Polarity</th>\n",
       "      <th>Sentiment</th>\n",
       "    </tr>\n",
       "  </thead>\n",
       "  <tbody>\n",
       "    <tr>\n",
       "      <th>0</th>\n",
       "      <td>Absolutely wonderful - silky and sexy and comf...</td>\n",
       "      <td>Positive</td>\n",
       "      <td>0.633333</td>\n",
       "      <td>Positive</td>\n",
       "    </tr>\n",
       "    <tr>\n",
       "      <th>1</th>\n",
       "      <td>Love this dress!  it's sooo pretty.  i happene...</td>\n",
       "      <td>Positive</td>\n",
       "      <td>0.339583</td>\n",
       "      <td>Positive</td>\n",
       "    </tr>\n",
       "    <tr>\n",
       "      <th>2</th>\n",
       "      <td>I had such high hopes for this dress and reall...</td>\n",
       "      <td>Neutral</td>\n",
       "      <td>0.073675</td>\n",
       "      <td>Positive</td>\n",
       "    </tr>\n",
       "    <tr>\n",
       "      <th>3</th>\n",
       "      <td>I love, love, love this jumpsuit. it's fun, fl...</td>\n",
       "      <td>Positive</td>\n",
       "      <td>0.550000</td>\n",
       "      <td>Positive</td>\n",
       "    </tr>\n",
       "    <tr>\n",
       "      <th>4</th>\n",
       "      <td>This shirt is very flattering to all due to th...</td>\n",
       "      <td>Positive</td>\n",
       "      <td>0.512891</td>\n",
       "      <td>Positive</td>\n",
       "    </tr>\n",
       "    <tr>\n",
       "      <th>5</th>\n",
       "      <td>I love tracy reese dresses, but this one is no...</td>\n",
       "      <td>Negative</td>\n",
       "      <td>0.178750</td>\n",
       "      <td>Positive</td>\n",
       "    </tr>\n",
       "    <tr>\n",
       "      <th>6</th>\n",
       "      <td>I aded this in my basket at hte last mintue to...</td>\n",
       "      <td>Positive</td>\n",
       "      <td>0.133750</td>\n",
       "      <td>Positive</td>\n",
       "    </tr>\n",
       "    <tr>\n",
       "      <th>7</th>\n",
       "      <td>I ordered this in carbon for store pick up, an...</td>\n",
       "      <td>Positive</td>\n",
       "      <td>0.171635</td>\n",
       "      <td>Positive</td>\n",
       "    </tr>\n",
       "    <tr>\n",
       "      <th>8</th>\n",
       "      <td>I love this dress. i usually get an xs but it ...</td>\n",
       "      <td>Positive</td>\n",
       "      <td>0.002500</td>\n",
       "      <td>Positive</td>\n",
       "    </tr>\n",
       "    <tr>\n",
       "      <th>9</th>\n",
       "      <td>I'm 5\"5' and 125 lbs. i ordered the s petite t...</td>\n",
       "      <td>Positive</td>\n",
       "      <td>0.204200</td>\n",
       "      <td>Positive</td>\n",
       "    </tr>\n",
       "  </tbody>\n",
       "</table>\n",
       "</div>"
      ],
      "text/plain": [
       "                                              Review     Class  Polarity  \\\n",
       "0  Absolutely wonderful - silky and sexy and comf...  Positive  0.633333   \n",
       "1  Love this dress!  it's sooo pretty.  i happene...  Positive  0.339583   \n",
       "2  I had such high hopes for this dress and reall...   Neutral  0.073675   \n",
       "3  I love, love, love this jumpsuit. it's fun, fl...  Positive  0.550000   \n",
       "4  This shirt is very flattering to all due to th...  Positive  0.512891   \n",
       "5  I love tracy reese dresses, but this one is no...  Negative  0.178750   \n",
       "6  I aded this in my basket at hte last mintue to...  Positive  0.133750   \n",
       "7  I ordered this in carbon for store pick up, an...  Positive  0.171635   \n",
       "8  I love this dress. i usually get an xs but it ...  Positive  0.002500   \n",
       "9  I'm 5\"5' and 125 lbs. i ordered the s petite t...  Positive  0.204200   \n",
       "\n",
       "  Sentiment  \n",
       "0  Positive  \n",
       "1  Positive  \n",
       "2  Positive  \n",
       "3  Positive  \n",
       "4  Positive  \n",
       "5  Positive  \n",
       "6  Positive  \n",
       "7  Positive  \n",
       "8  Positive  \n",
       "9  Positive  "
      ]
     },
     "execution_count": 77,
     "metadata": {},
     "output_type": "execute_result"
    }
   ],
   "source": [
    "data['Sentiment'] = data['Polarity'].apply(sentiment_score)\n",
    "data.head(10)"
   ]
  },
  {
   "cell_type": "markdown",
   "metadata": {},
   "source": [
    "Let's see how sentiments are distributed:"
   ]
  },
  {
   "cell_type": "code",
   "execution_count": 78,
   "metadata": {},
   "outputs": [
    {
     "data": {
      "text/plain": [
       "Positive    21227\n",
       "Negative     1322\n",
       "Neutral        92\n",
       "Name: Sentiment, dtype: int64"
      ]
     },
     "execution_count": 78,
     "metadata": {},
     "output_type": "execute_result"
    }
   ],
   "source": [
    "data['Sentiment'].value_counts()"
   ]
  },
  {
   "cell_type": "code",
   "execution_count": 79,
   "metadata": {},
   "outputs": [
    {
     "data": {
      "text/html": [
       "<div>\n",
       "<style scoped>\n",
       "    .dataframe tbody tr th:only-of-type {\n",
       "        vertical-align: middle;\n",
       "    }\n",
       "\n",
       "    .dataframe tbody tr th {\n",
       "        vertical-align: top;\n",
       "    }\n",
       "\n",
       "    .dataframe thead th {\n",
       "        text-align: right;\n",
       "    }\n",
       "</style>\n",
       "<table border=\"1\" class=\"dataframe\">\n",
       "  <thead>\n",
       "    <tr style=\"text-align: right;\">\n",
       "      <th></th>\n",
       "      <th>Review</th>\n",
       "      <th>Class</th>\n",
       "      <th>Polarity</th>\n",
       "      <th>Sentiment</th>\n",
       "    </tr>\n",
       "  </thead>\n",
       "  <tbody>\n",
       "    <tr>\n",
       "      <th>10</th>\n",
       "      <td>Dress runs small esp where the zipper area run...</td>\n",
       "      <td>Neutral</td>\n",
       "      <td>-0.097149</td>\n",
       "      <td>Negative</td>\n",
       "    </tr>\n",
       "    <tr>\n",
       "      <th>14</th>\n",
       "      <td>This is a nice choice for holiday gatherings. ...</td>\n",
       "      <td>Neutral</td>\n",
       "      <td>-0.057143</td>\n",
       "      <td>Negative</td>\n",
       "    </tr>\n",
       "    <tr>\n",
       "      <th>22</th>\n",
       "      <td>First of all, this is not pullover styling. th...</td>\n",
       "      <td>Negative</td>\n",
       "      <td>-0.045595</td>\n",
       "      <td>Negative</td>\n",
       "    </tr>\n",
       "    <tr>\n",
       "      <th>44</th>\n",
       "      <td>Tried this on today at my local retailer and h...</td>\n",
       "      <td>Positive</td>\n",
       "      <td>-0.046374</td>\n",
       "      <td>Negative</td>\n",
       "    </tr>\n",
       "    <tr>\n",
       "      <th>72</th>\n",
       "      <td>I have a short torso and this works well for m...</td>\n",
       "      <td>Positive</td>\n",
       "      <td>-0.079365</td>\n",
       "      <td>Negative</td>\n",
       "    </tr>\n",
       "  </tbody>\n",
       "</table>\n",
       "</div>"
      ],
      "text/plain": [
       "                                               Review     Class  Polarity  \\\n",
       "10  Dress runs small esp where the zipper area run...   Neutral -0.097149   \n",
       "14  This is a nice choice for holiday gatherings. ...   Neutral -0.057143   \n",
       "22  First of all, this is not pullover styling. th...  Negative -0.045595   \n",
       "44  Tried this on today at my local retailer and h...  Positive -0.046374   \n",
       "72  I have a short torso and this works well for m...  Positive -0.079365   \n",
       "\n",
       "   Sentiment  \n",
       "10  Negative  \n",
       "14  Negative  \n",
       "22  Negative  \n",
       "44  Negative  \n",
       "72  Negative  "
      ]
     },
     "execution_count": 79,
     "metadata": {},
     "output_type": "execute_result"
    }
   ],
   "source": [
    "data.loc[data['Sentiment'] == 'Negative'].head()"
   ]
  },
  {
   "cell_type": "code",
   "execution_count": 80,
   "metadata": {},
   "outputs": [
    {
     "data": {
      "text/html": [
       "<div>\n",
       "<style scoped>\n",
       "    .dataframe tbody tr th:only-of-type {\n",
       "        vertical-align: middle;\n",
       "    }\n",
       "\n",
       "    .dataframe tbody tr th {\n",
       "        vertical-align: top;\n",
       "    }\n",
       "\n",
       "    .dataframe thead th {\n",
       "        text-align: right;\n",
       "    }\n",
       "</style>\n",
       "<table border=\"1\" class=\"dataframe\">\n",
       "  <thead>\n",
       "    <tr style=\"text-align: right;\">\n",
       "      <th></th>\n",
       "      <th>Review</th>\n",
       "      <th>Class</th>\n",
       "      <th>Polarity</th>\n",
       "      <th>Sentiment</th>\n",
       "    </tr>\n",
       "  </thead>\n",
       "  <tbody>\n",
       "    <tr>\n",
       "      <th>28</th>\n",
       "      <td>I have several of goodhyouman shirts and i get...</td>\n",
       "      <td>Positive</td>\n",
       "      <td>0.0</td>\n",
       "      <td>Neutral</td>\n",
       "    </tr>\n",
       "    <tr>\n",
       "      <th>104</th>\n",
       "      <td>Runs big and looked unflattering. i am petite,...</td>\n",
       "      <td>Negative</td>\n",
       "      <td>0.0</td>\n",
       "      <td>Neutral</td>\n",
       "    </tr>\n",
       "    <tr>\n",
       "      <th>751</th>\n",
       "      <td>Can be a bit itchy sometimes, i guess dependin...</td>\n",
       "      <td>Positive</td>\n",
       "      <td>0.0</td>\n",
       "      <td>Neutral</td>\n",
       "    </tr>\n",
       "    <tr>\n",
       "      <th>897</th>\n",
       "      <td>I like the skirt. that said it is going to the...</td>\n",
       "      <td>Positive</td>\n",
       "      <td>0.0</td>\n",
       "      <td>Neutral</td>\n",
       "    </tr>\n",
       "    <tr>\n",
       "      <th>976</th>\n",
       "      <td>I was initially attracted to the colors</td>\n",
       "      <td>Positive</td>\n",
       "      <td>0.0</td>\n",
       "      <td>Neutral</td>\n",
       "    </tr>\n",
       "  </tbody>\n",
       "</table>\n",
       "</div>"
      ],
      "text/plain": [
       "                                                Review     Class  Polarity  \\\n",
       "28   I have several of goodhyouman shirts and i get...  Positive       0.0   \n",
       "104  Runs big and looked unflattering. i am petite,...  Negative       0.0   \n",
       "751  Can be a bit itchy sometimes, i guess dependin...  Positive       0.0   \n",
       "897  I like the skirt. that said it is going to the...  Positive       0.0   \n",
       "976            I was initially attracted to the colors  Positive       0.0   \n",
       "\n",
       "    Sentiment  \n",
       "28    Neutral  \n",
       "104   Neutral  \n",
       "751   Neutral  \n",
       "897   Neutral  \n",
       "976   Neutral  "
      ]
     },
     "execution_count": 80,
     "metadata": {},
     "output_type": "execute_result"
    }
   ],
   "source": [
    "data.loc[data['Sentiment'] == 'Neutral'].head()"
   ]
  },
  {
   "cell_type": "markdown",
   "metadata": {},
   "source": [
    "We will compare them with originally ranking:"
   ]
  },
  {
   "cell_type": "code",
   "execution_count": 81,
   "metadata": {},
   "outputs": [
    {
     "data": {
      "text/plain": [
       "0.7731990636455986"
      ]
     },
     "execution_count": 81,
     "metadata": {},
     "output_type": "execute_result"
    }
   ],
   "source": [
    "accuracy_score(data['Class'],data['Sentiment'])"
   ]
  },
  {
   "cell_type": "code",
   "execution_count": 82,
   "metadata": {},
   "outputs": [
    {
     "name": "stdout",
     "output_type": "stream",
     "text": [
      "              precision    recall  f1-score   support\n",
      "\n",
      "    Negative       0.41      0.23      0.29      2370\n",
      "     Neutral       0.16      0.01      0.01      2823\n",
      "    Positive       0.80      0.97      0.88     17448\n",
      "\n",
      "    accuracy                           0.77     22641\n",
      "   macro avg       0.46      0.40      0.39     22641\n",
      "weighted avg       0.68      0.77      0.71     22641\n",
      "\n"
     ]
    }
   ],
   "source": [
    "print(classification_report(data['Class'],data['Sentiment']))"
   ]
  }
 ],
 "metadata": {
  "kernelspec": {
   "display_name": "Python 3.10.7 64-bit (microsoft store)",
   "language": "python",
   "name": "python3"
  },
  "language_info": {
   "codemirror_mode": {
    "name": "ipython",
    "version": 3
   },
   "file_extension": ".py",
   "mimetype": "text/x-python",
   "name": "python",
   "nbconvert_exporter": "python",
   "pygments_lexer": "ipython3",
   "version": "3.10.7"
  },
  "vscode": {
   "interpreter": {
    "hash": "66eba28a75a64fbe1a9b9c30d27f7c856726c51cbbef86297708eae4ce175db0"
   }
  }
 },
 "nbformat": 4,
 "nbformat_minor": 2
}
